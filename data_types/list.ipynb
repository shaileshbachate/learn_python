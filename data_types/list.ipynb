{
 "cells": [
  {
   "cell_type": "markdown",
   "metadata": {},
   "source": [
    "# Lists"
   ]
  },
  {
   "cell_type": "code",
   "execution_count": 2,
   "metadata": {},
   "outputs": [
    {
     "name": "stdout",
     "output_type": "stream",
     "text": [
      "[] <class 'list'>\n",
      "[] <class 'list'>\n",
      "list: ['a', 'b', True, 'a', 34]\n",
      "Type: <class 'list'>\n",
      "length of list: 5\n",
      "Number of times the value 'a' appears in mylist: 2\n",
      "Position of first occurence of 'a' in mylist: 0\n",
      "------------------------------------------------------------------------\n",
      "['l', 'i', 's', 't', 'F', 'r', 'o', 'm', 'S', 't', 'r', 'i', 'n', 'g'] [0, 3, 6, 9, 12, 15] [1, 'a', True, 7.8] [2, 'c', 'b'] [True, False, 7.8] ['One', 'Two']\n",
      "------------------------------------------------------------------------\n",
      "a b True a 34\n",
      "0 3 6 9 12 15\n"
     ]
    }
   ],
   "source": [
    "empty_list = []\n",
    "print(empty_list, type(empty_list))\n",
    "empty_list2 = list()\n",
    "print(empty_list, type(empty_list2))\n",
    "\n",
    "mylist = [\"a\", \"b\", True, \"a\", 34]\n",
    "\n",
    "# # List items are ordered, changeable, and allow duplicate values.\n",
    "# # List items are indexed, the first item has index [0], the second item has index [1] etc.\n",
    "print(\"list: \" + str(mylist))\n",
    "\n",
    "print(f\"Type: {type(mylist)}\")  # Type: <class 'list'>\n",
    "print(f\"length of list: {len(mylist)}\")\n",
    "print(f\"Number of times the value 'a' appears in mylist: {mylist.count('a')}\")\n",
    "print(f\"Position of first occurence of 'a' in mylist: {mylist.index('a')}\")\n",
    "# # if item is not present in the list, index() will give error: ValueError: 'x' is not in list\n",
    "# print(f\"Position of first occurence of 'a' in mylist: {mylist.index('x')}\")\n",
    "print(\"------------------------------------------------------------------------\")\n",
    "\n",
    "\n",
    "mylist0 = list(\"listFromString\")\n",
    "mylist1 = list(range(0, 16, 3))\n",
    "mylist2 = list((1, \"a\", True, 7.8))\n",
    "mylist3 = list({\"b\", 2, 2, \"c\", \"b\"})\n",
    "mylist4 = list((True, False, 7.8))\n",
    "mylist5 = list({\"One\": 100, \"Two\": 200})\n",
    "print(mylist0, mylist1, mylist2, mylist3, mylist4, mylist5)\n",
    "print(\"------------------------------------------------------------------------\")\n",
    "\n",
    "print(*mylist)\n",
    "print(*mylist1)"
   ]
  },
  {
   "cell_type": "markdown",
   "metadata": {},
   "source": [
    "## Access list items"
   ]
  },
  {
   "cell_type": "code",
   "execution_count": 8,
   "metadata": {},
   "outputs": [
    {
     "name": "stdout",
     "output_type": "stream",
     "text": [
      "a\n",
      "34\n",
      "[True, 'a', 34]\n",
      "['a', 'b', True]\n",
      "[True, 'a', 34]\n",
      "['b', True, 'a']\n",
      "'b' is present in the list\n",
      "[0, 1, 2, 3, 4, 5, 6, 7, 8, 9]\n",
      "s           => [0, 1, 2, 3, 4, 5, 6, 7, 8, 9]\n",
      "s[2]        => 2\n",
      "s[2:5]      => [2, 3, 4]\n",
      "s[6:1]      => []\n",
      "s[-5:-2]    => [5, 6, 7]\n",
      "s[1:8:2]    => [1, 3, 5, 7]\n",
      "s[:1:-1]    => [9, 8, 7, 6, 5, 4, 3, 2]\n",
      "s[1::2]     => [1, 3, 5, 7, 9]\n",
      "s[::2]      => [0, 2, 4, 6, 8]\n",
      "s[::-2]     => [9, 7, 5, 3, 1]\n",
      "s[::-1]     => [9, 8, 7, 6, 5, 4, 3, 2, 1, 0]\n",
      "s[999:]     => []\n"
     ]
    }
   ],
   "source": [
    "# Access List Items #\n",
    "\n",
    "mylist = [\"a\", \"b\", True, \"a\", 34]\n",
    "print(mylist[0])\n",
    "\n",
    "# Negative Indexing\n",
    "# # Negative indexing means start from the end\n",
    "# # -1 refers to the last item, -2 refers to the second last item etc.\n",
    "print(mylist[-1])\n",
    "\n",
    "# Range of Indexes\n",
    "# # The search will start at index 2 (included) and end at index 5 (not included).\n",
    "print(mylist[2:5])\n",
    "# # By leaving out the start value, the range will start at the first item\n",
    "print(mylist[:3])\n",
    "# # By leaving out the end value, the range will go on to the end of the list\n",
    "print(mylist[2:])\n",
    "# print(mylist[4:1])  # This will print empty list\n",
    "# Range of Negative Indexes\n",
    "print(mylist[-4:-1])\n",
    "\n",
    "if \"b\" in mylist:\n",
    "    print(\"'b' is present in the list\")\n",
    "\n",
    "s = list(range(10))\n",
    "print(s)\n",
    "print(f\"s           => {s}\")\n",
    "print(f\"s[2]        => {s[2]}\")\n",
    "print(f\"s[2:5]      => {s[2:5]}\")\n",
    "print(f\"s[6:1]      => {s[6:1]}\")\n",
    "print(f\"s[-5:-2]    => {s[-5:-2]}\")\n",
    "print(f\"s[1:8:2]    => {s[1:8:2]}\")\n",
    "print(f\"s[:1:-1]    => {s[:1:-1]}\")  # in [i:j:k], if step-size(k) is negative, default value of i will be 'len(s) - 1'\n",
    "print(f\"s[1::2]     => {s[1::2]}\")\n",
    "print(f\"s[::2]      => {s[::2]}\")\n",
    "print(f\"s[::-2]     => {s[::-2]}\")\n",
    "print(f\"s[::-1]     => {s[::-1]}\")  # reverse of list\n",
    "print(f\"s[999:]     => {s[999:]}\")"
   ]
  },
  {
   "cell_type": "markdown",
   "metadata": {},
   "source": [
    "## List unpacking, Loop through lists"
   ]
  },
  {
   "cell_type": "code",
   "execution_count": 9,
   "metadata": {},
   "outputs": [
    {
     "name": "stdout",
     "output_type": "stream",
     "text": [
      "2 4.3 True hey\n",
      "2\t4.3\tTrue\they\t\n",
      "2, 4.3, True, hey, \n"
     ]
    }
   ],
   "source": [
    "# List unpacking #\n",
    "li = [2, 4.3, True, \"hey\"]\n",
    "a, b, c, d = li\n",
    "print(a, b, c, d)\n",
    "\n",
    "# Loop Through a List #\n",
    "for x in li:\n",
    "    print(x, end=\"\\t\")\n",
    "print()\n",
    "\n",
    "# Looping Using List Comprehension\n",
    "[print(x, end=', ') for x in li]\n",
    "print()"
   ]
  },
  {
   "cell_type": "markdown",
   "metadata": {},
   "source": [
    "## Change item value"
   ]
  },
  {
   "cell_type": "code",
   "execution_count": 10,
   "metadata": {},
   "outputs": [
    {
     "name": "stdout",
     "output_type": "stream",
     "text": [
      "[1, 20, 34, 99]\n",
      "[100, 200, 34, 99]\n",
      "[1000, 2000, 34, 99]\n",
      "[120, 34, 99]\n",
      "['a', 'b', 'c', 'd', 'e', 99]\n"
     ]
    }
   ],
   "source": [
    "# Change Item Value #\n",
    "\n",
    "mylist6 = [1, 2, 34, 99]\n",
    "mylist6[1] = 20\n",
    "print(mylist6)  # [1, 20, 34, 99]\n",
    "\n",
    "# Change a Range of Item Values\n",
    "# # To change the value of items within a specific range,\n",
    "# # define a list (or other iterable like tuple, set, dict etc.) with the new values,\n",
    "# # and refer to the range of index numbers where you want to insert the new values:\n",
    "mylist6[0:2] = [100, 200]  # [100, 200, 34, 99]\n",
    "print(mylist6)\n",
    "mylist6[0:2] = {1000: True, 2000: False}  # [1000, 2000, 34, 99]\n",
    "print(mylist6)\n",
    "\n",
    "# # If you insert less items than you replace, the new items will be inserted\n",
    "# # where you specified, and the remaining items will move accordingly\n",
    "mylist6[0:2] = [120]  # [120, 34, 99]\n",
    "print(mylist6)\n",
    "\n",
    "# # If you insert more items than you replace, the new items will be inserted\n",
    "# # where you specified, and the remaining items will move accordingly:\n",
    "mylist6[0:2] = ['a', 'b', 'c', 'd', 'e']  # ['a', 'b', 'c', 'd', 'e', 99]\n",
    "print(mylist6)\n"
   ]
  },
  {
   "cell_type": "markdown",
   "metadata": {},
   "source": [
    "## Add, Remove list items"
   ]
  },
  {
   "cell_type": "code",
   "execution_count": 11,
   "metadata": {},
   "outputs": [
    {
     "name": "stdout",
     "output_type": "stream",
     "text": [
      "[1, 2, 25, 3, 4, 5, 999]\n",
      "Length of list: 7\n",
      "[1, 2, 25, 3, 4, 5, 999, 'a', 'b', 'c'] ['a', 'b', 'c', 'z', 'y', 'x'] [1, 2, 25, 3, 4, 5, 999, 'a', 'b', 'c']\n",
      "Popped item: 25\n",
      "Popped item: c\n",
      "After removing more elements: li = [1, 2, 4, 5, 999, 'b']\n",
      "[4, 5, 999, 'b']\n",
      "[999, 'b']\n",
      "[]\n",
      "removing all occurences of a 2 from a list: [1, 3, 4]\n",
      "removing all occurences of a 2 from a list: [1, 3, 4]\n"
     ]
    }
   ],
   "source": [
    "# Add List Items #\n",
    "\n",
    "li = [1, 2, 3, 4]\n",
    "li.append(5)\n",
    "li.insert(2, 25)\n",
    "# # inserts element at the end of the list, if index provided is way beyond the length of list\n",
    "li.insert(15, 999)\n",
    "print(li)\n",
    "print(f\"Length of list: {len(li)}\")\n",
    "\n",
    "li2 = ['a', 'b', 'c']\n",
    "li3 = li+li2\n",
    "myset = {'x', 'y', 'z'}\n",
    "# li2 = li + myset  # TypeError: can only concatenate list (not \"set\") to list\n",
    "# # The extend() method does not have to append lists, you can add any iterable object (tuples, sets, dictionaries etc.).\n",
    "li.extend(li2)  # will be same as li = li + li2 in this case\n",
    "li2.extend(myset)\n",
    "\n",
    "print(li, li2, li3)\n",
    "\n",
    "# Remove List Items #\n",
    "\n",
    "# The remove() method removes the specified item (first matched item is removed only, not all the matches).\n",
    "li.remove('a')\n",
    "# The pop() method removes the specified index and returns popped item\n",
    "popped_item = li.pop(2)\n",
    "print(f\"Popped item: {popped_item}\")\n",
    "# If you do not specify the index, pop() removes the last item and returns popped item.\n",
    "popped_item = li.pop()\n",
    "print(f\"Popped item: {popped_item}\")\n",
    "del li[2]  # The del keyword also removes the specified index\n",
    "print(f\"After removing more elements: li = {li}\")\n",
    "del li[0:2]  # removing multiple items of list\n",
    "print(li)\n",
    "li[0:2] = []  # removing multiple items of list # alternate method\n",
    "print(li)\n",
    "\n",
    "# The clear() method empties the list. The list still remains, but it has no content.\n",
    "li.clear()\n",
    "print(li)\n",
    "\n",
    "del li  # The del keyword can also delete the list completely.\n",
    "# print(li)  # NameError: name 'li' is not defined\n",
    "\n",
    "\n",
    "# Remove all occurrences of a value from a list #\n",
    "li = [1, 2, 3, 2, 4, 2]\n",
    "print(\"removing all occurences of a 2 from a list:\", list(filter(lambda x: x != 2, li)))\n",
    "print(\"removing all occurences of a 2 from a list:\", [x for x in li if x != 2])\n",
    "# #"
   ]
  },
  {
   "cell_type": "markdown",
   "metadata": {},
   "source": [
    "## Copy a list"
   ]
  },
  {
   "cell_type": "code",
   "execution_count": 12,
   "metadata": {},
   "outputs": [
    {
     "name": "stdout",
     "output_type": "stream",
     "text": [
      "[10, 2, 3] [10, 2, 3]\n",
      "[10, 2, 3] [100, 2, 3]\n",
      "[10, 2, 3] [1000, 2, 3]\n"
     ]
    }
   ],
   "source": [
    "# Copy a List #\n",
    "\n",
    "list1 = [1, 2, 3]\n",
    "# # You cannot copy a list simply by typing list2 = list1, because:\n",
    "# # list2 will only be a reference to list1, and changes made in list1 will automatically also be made in list2.\n",
    "list2 = list1\n",
    "list2[0] = 10\n",
    "print(list1, list2)\n",
    "\n",
    "# # There are ways to make a copy, one way is to use the built-in List method copy()\n",
    "list3 = list1.copy()\n",
    "list3[0] = 100\n",
    "print(list1, list3)\n",
    "\n",
    "# # Another way to make a copy is to use the built-in method list()\n",
    "list4 = list(list1)\n",
    "list4[0] = 1000\n",
    "print(list1, list4)\n"
   ]
  },
  {
   "cell_type": "markdown",
   "metadata": {},
   "source": [
    "## Join Two Lists"
   ]
  },
  {
   "cell_type": "code",
   "execution_count": 13,
   "metadata": {},
   "outputs": [
    {
     "name": "stdout",
     "output_type": "stream",
     "text": [
      "[1, 2, 3, 4, 5, 6]\n",
      "[1, 2, 3, 4, 5, 6]\n",
      "[1, 2, 3, 8, 6, 9, 2, 4, 5]\n",
      "[1, 2, 3, 4, 5, 6, 1, 2, 3, 4, 5, 6, 1, 2, 3, 4, 5, 6]\n"
     ]
    }
   ],
   "source": [
    "# Join Two Lists #\n",
    "\n",
    "l1 = [1, 2, 3]\n",
    "l2 = [4, 5, 6]\n",
    "# # There are several ways to join, or concatenate, two or more lists in Python.\n",
    "# # One of the easiest ways are by using the + operator.\n",
    "l3 = l1 + l2\n",
    "print(l3)\n",
    "\n",
    "# # you can use the extend() method, whose purpose is to add elements from one list to another list:\n",
    "l4 = []\n",
    "l4.extend(l1)  # extend() method does not return anything\n",
    "l4.extend(l2)\n",
    "print(l4)\n",
    "# # += works same as extend()\n",
    "l5 = []\n",
    "l5 += l1\n",
    "# l5 = l5+(8, 6, 9)  # will give error: TypeError: can only concatenate list (not \"tuple\") to list, but following works properly\n",
    "l5 += (8, 6, 9)\n",
    "l5 += {4, 5, 2}\n",
    "print(l5)\n",
    "\n",
    "l4 *= 3  # updates list with its contents repeated 3 times\n",
    "print(l4)"
   ]
  },
  {
   "cell_type": "markdown",
   "metadata": {},
   "source": [
    "## some useful functions/methods\n",
    "- max(li)\n",
    "- min(li)\n",
    "- sum(li)\n",
    "- all(li)\n",
    "- any(li)\n",
    "- li.count(n)\n",
    "- li.index(n)\n",
    "- li.index(n, i, j)"
   ]
  },
  {
   "cell_type": "code",
   "execution_count": 14,
   "metadata": {},
   "outputs": [
    {
     "name": "stdout",
     "output_type": "stream",
     "text": [
      "12\n",
      "0\n",
      "33\n",
      "False\n",
      "True\n",
      "1\n",
      "2\n",
      "6\n"
     ]
    }
   ],
   "source": [
    "li = [4, 1, 2, 5, 12, 0, 2, 7]\n",
    "print(max(li))\n",
    "print(min(li))\n",
    "print(sum(li))\n",
    "\n",
    "print(all(li))\n",
    "print(any(li))\n",
    "\n",
    "print(li.count(4))\n",
    "# print(li.count(4, 0, 3)) # TypeError: list.count() takes exactly one argument (3 given)\n",
    "print(li.index(2))\n",
    "i, j = 4, 8\n",
    "print(li.index(2, i, j))\n"
   ]
  },
  {
   "cell_type": "markdown",
   "metadata": {},
   "source": [
    "## Sort List Alphanumerically"
   ]
  },
  {
   "cell_type": "code",
   "execution_count": 15,
   "metadata": {},
   "outputs": [
    {
     "name": "stdout",
     "output_type": "stream",
     "text": [
      "['Ze', 'banana', 'k', 'kiwi', 'mango']\n",
      "['mango', 'kiwi', 'k', 'banana', 'Ze']\n",
      "Case Insensitive Sort: ['banana', 'k', 'kiwi', 'mango', 'Ze']\n",
      "Sort according to length: ['k', 'Ze', 'kiwi', 'mango', 'banana']\n",
      "[5, 23, 50, 82, 100]\n",
      "[100, 82, 50, 23, 5]\n",
      "[100, 82, 50, 23, 5] [5, 23, 50, 82, 100]\n",
      "[100, 82, 50, 23, 5]\n"
     ]
    }
   ],
   "source": [
    "# Sort List Alphanumerically #\n",
    "\n",
    "mylist = [\"Ze\", \"mango\", \"kiwi\", \"k\", \"banana\"]\n",
    "mylist.sort()  # alphabetical order  # The sort() method is case sensitive\n",
    "print(mylist)\n",
    "mylist.sort(reverse=True)  # reverse alphabetical order\n",
    "print(mylist)\n",
    "mylist.sort(key=str.lower)  # Case Insensitive Sort\n",
    "print(f\"Case Insensitive Sort: {mylist}\")\n",
    "mylist.sort(key=len)\n",
    "print(f\"Sort according to length: {mylist}\")  # length\n",
    "\n",
    "mylist2 = [100, 50, 5, 82, 23]\n",
    "mylist2.sort()  # ascending order\n",
    "print(mylist2)\n",
    "mylist2.sort(reverse=True)  # descending order\n",
    "print(mylist2)\n",
    "\n",
    "# # sort() method does not return anything. sorted() returns sorted list.\n",
    "# # Here, mylist3 will be equal to sorted mylist2, but mylist2 itself will not be sorted.\n",
    "mylist3 = sorted(mylist2)  # ascending order\n",
    "print(mylist2, mylist3)\n",
    "mylist4 = sorted(mylist2, reverse=True)  # descending order\n",
    "print(mylist4)\n"
   ]
  },
  {
   "cell_type": "markdown",
   "metadata": {},
   "source": [
    "## Reverse Order"
   ]
  },
  {
   "cell_type": "code",
   "execution_count": 16,
   "metadata": {},
   "outputs": [
    {
     "name": "stdout",
     "output_type": "stream",
     "text": [
      "3 1 5 2 4 \n",
      "[3, 1, 5, 2, 4]\n",
      "[3, 1, 5, 2, 4]\n"
     ]
    }
   ],
   "source": [
    "# Reverse Order #\n",
    "\n",
    "mylist5 = [4, 2, 5, 1, 3]\n",
    "mylist6 = reversed(mylist5)  # reversed() returns a reversed iterator object.\n",
    "# print(mylist6)  # <list_reverseiterator object at 0x000001C087D32FA0>\n",
    "for x in mylist6:\n",
    "    print(x, end=' ')\n",
    "print()\n",
    "# list() constructor is used to get a list from iterable\n",
    "mylist7 = list(reversed(mylist5))\n",
    "print(mylist7)\n",
    "\n",
    "mylist5.reverse()  # reverses the list\n",
    "print(mylist5)\n"
   ]
  },
  {
   "cell_type": "markdown",
   "metadata": {},
   "source": [
    "## Customize Sort Function"
   ]
  },
  {
   "cell_type": "code",
   "execution_count": 17,
   "metadata": {},
   "outputs": [
    {
     "name": "stdout",
     "output_type": "stream",
     "text": [
      "[50, 65, 23, 82, 100]\n",
      "[100, 82, 65, 50, 23]\n",
      "[[0, 2], [2, 13], [4, 42], [12, 1]]\n"
     ]
    }
   ],
   "source": [
    "# Customize Sort Function #\n",
    "\n",
    "# You can customize your own function by using the keyword argument key = function.\n",
    "# The function will return a number that will be used to sort the list (the lowest number first)\n",
    "# Sort the list based on how close the number is to 50:\n",
    "def myfun(n):\n",
    "    return abs(n-50)\n",
    "\n",
    "mylist7 = [100, 50, 65, 82, 23]\n",
    "mylist7.sort(key=myfun)\n",
    "print(mylist7)\n",
    "\n",
    "# descending order\n",
    "def mycompare(a, b):\n",
    "    return b-a\n",
    "\n",
    "import functools\n",
    "mylist7.sort(key=functools.cmp_to_key(mycompare))\n",
    "print(mylist7)\n",
    "\n",
    "\n",
    "# lambda key #\n",
    "mylist8 = [[2,13],[12,1],[4,42],[0,2]]\n",
    "mylist8.sort(key= lambda val: val[0])\n",
    "print(mylist8)\n",
    "# #"
   ]
  },
  {
   "cell_type": "markdown",
   "metadata": {},
   "source": [
    "## List Comprehension\n",
    "Syntax: `newlist = [expression for item in iterable if condition == True]`"
   ]
  },
  {
   "cell_type": "code",
   "execution_count": 18,
   "metadata": {},
   "outputs": [
    {
     "name": "stdout",
     "output_type": "stream",
     "text": [
      "['apple', 'banana', 'mango']\n",
      "['apple', 'banana', 'mango']\n",
      "<class 'list'> [0, 1, 2, 3, 4]\n",
      "<class 'set'> {0, 1, 2, 3, 4}\n",
      "<class 'dict'> {0: 0, 1: 1, 2: 4, 3: 9, 4: 16}\n"
     ]
    }
   ],
   "source": [
    "# List Comprehension #\n",
    "# List comprehension offers a shorter syntax when you want to create a new list based on the values of an existing list.\n",
    "\n",
    "# # Syntax: newlist = [expression for item in iterable if condition == True]\n",
    "# # The return value is a new list, leaving the old list unchanged.\n",
    "\n",
    "fruits = [\"apple\", \"banana\", \"cherry\", \"kiwi\", \"mango\"]\n",
    "\n",
    "newlist = []\n",
    "for x in fruits:\n",
    "    if \"a\" in x:\n",
    "        newlist.append(x)\n",
    "print(newlist)\n",
    "\n",
    "# # With list comprehension you can do all that with only one line of code\n",
    "newlist2 = [x for x in fruits if \"a\" in x]  # fruits containing letter 'a'.\n",
    "print(newlist2)\n",
    "\n",
    "\n",
    "l1 = [x for x in range(5)]\n",
    "print(type(l1), l1)\n",
    "s1 = {x for x in range(5)}\n",
    "print(type(s1), s1)\n",
    "d1 = {x: x**2 for x in range(5)}\n",
    "print(type(d1), d1)"
   ]
  },
  {
   "cell_type": "code",
   "execution_count": null,
   "metadata": {},
   "outputs": [
    {
     "name": "stdout",
     "output_type": "stream",
     "text": [
      "['APPLE!!!', 'KIWI!!!', 'CHERRY!!!', 'ORANGE!!!', 'MANGO!!!']\n",
      "['Apple!', 'KIWI!!!', 'CHERRY!!!', 'Orange!', 'MANGO!!!']\n",
      "------------------------------------------------------------------------\n",
      "[('APPLE!!!', 'Apple!'), ('APPLE!!!', 'KIWI!!!'), ('APPLE!!!', 'CHERRY!!!'), ('APPLE!!!', 'Orange!'), ('APPLE!!!', 'MANGO!!!'), ('KIWI!!!', 'Apple!'), ('KIWI!!!', 'CHERRY!!!'), ('KIWI!!!', 'Orange!'), ('KIWI!!!', 'MANGO!!!'), ('CHERRY!!!', 'Apple!'), ('CHERRY!!!', 'KIWI!!!'), ('CHERRY!!!', 'Orange!'), ('CHERRY!!!', 'MANGO!!!'), ('ORANGE!!!', 'Apple!'), ('ORANGE!!!', 'KIWI!!!'), ('ORANGE!!!', 'CHERRY!!!'), ('ORANGE!!!', 'Orange!'), ('ORANGE!!!', 'MANGO!!!'), ('MANGO!!!', 'Apple!'), ('MANGO!!!', 'KIWI!!!'), ('MANGO!!!', 'CHERRY!!!'), ('MANGO!!!', 'Orange!')]\n",
      "22\n",
      "------------------------------------------------------------------------\n",
      "[('apple', 'APPLE!!!'), ('kiwi', 'KIWI!!!'), ('cherry', 'CHERRY!!!'), ('orange', 'ORANGE!!!'), ('mango', 'MANGO!!!')]\n",
      "------------------------------------------------------------------------\n",
      "1 2 3 4 5 6 7 8 9 \n",
      "1 2 3 4 5 6 7 8 9\n"
     ]
    }
   ],
   "source": [
    "li = [\"apple\", \"kiwi\", \"cherry\", \"orange\", \"mango\"]\n",
    "\n",
    "li2 = [x.upper() + \"!!!\" for x in li]\n",
    "print(li2)\n",
    "# li3 = [f\"{x.upper()}!\" if x[0] in ['a', 'e', 'i', 'o', 'u'] for x in li]\n",
    "li3 = [f\"{x.capitalize()}!\" if x[0] in ['a', 'e', 'i', 'o', 'u']\n",
    "       else f\"{x.upper()}!!!\" for x in li]\n",
    "print(li3)\n",
    "print(\"------------------------------------------------------------------------\")\n",
    "\n",
    "li4 = [(x, y) for x in li2 for y in li3 if x != y]\n",
    "print(li4)\n",
    "print(len(li4))\n",
    "print(\"------------------------------------------------------------------------\")\n",
    "\n",
    "li5 = [x for x in zip(li, li2)]\n",
    "print(li5)\n",
    "print(\"------------------------------------------------------------------------\")\n",
    "\n",
    "li6 = [[1, 2, 3], [4, 5, 6], [7, 8, 9]]\n",
    "\n",
    "for li in li6:\n",
    "    for x in li:\n",
    "        print(x, end=' ')\n",
    "print()\n",
    "\n",
    "print(*[x for li in li6 for x in li])"
   ]
  }
 ],
 "metadata": {
  "interpreter": {
   "hash": "c9898c5574bdc177b6ddb2b18ff7f3632460f6fb5d84266862114340fac52bdd"
  },
  "kernelspec": {
   "display_name": "Python 3.8.3 64-bit (conda)",
   "name": "python3"
  },
  "language_info": {
   "codemirror_mode": {
    "name": "ipython",
    "version": 3
   },
   "file_extension": ".py",
   "mimetype": "text/x-python",
   "name": "python",
   "nbconvert_exporter": "python",
   "pygments_lexer": "ipython3",
   "version": "3.8.3"
  }
 },
 "nbformat": 4,
 "nbformat_minor": 4
}
