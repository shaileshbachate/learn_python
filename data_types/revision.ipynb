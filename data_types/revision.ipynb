{
 "cells": [
  {
   "cell_type": "code",
   "execution_count": 18,
   "metadata": {},
   "outputs": [],
   "source": [
    "import re"
   ]
  },
  {
   "cell_type": "code",
   "execution_count": 19,
   "metadata": {},
   "outputs": [
    {
     "name": "stdout",
     "output_type": "stream",
     "text": [
      "Haaa\n"
     ]
    }
   ],
   "source": [
    "pattern = re.compile(r'Ha{3}')\n",
    "\n",
    "test = '''\n",
    "Ha HaHaHa\n",
    "Ht utei Haab Haaa\n",
    "yt\n",
    "'''\n",
    "match = re.search(pattern, test)\n",
    "print(match[0])"
   ]
  },
  {
   "cell_type": "code",
   "execution_count": 20,
   "metadata": {},
   "outputs": [
    {
     "name": "stdout",
     "output_type": "stream",
     "text": [
      "HaHaHa\n"
     ]
    }
   ],
   "source": [
    "pattern = re.compile(r'(Ha){3}')\n",
    "\n",
    "test = '''\n",
    "Ha HaHaHa\n",
    "Ht utei Haab Haaa\n",
    "yt\n",
    "'''\n",
    "match = re.search(pattern, test)\n",
    "print(match[0])"
   ]
  }
 ],
 "metadata": {
  "interpreter": {
   "hash": "63fd5069d213b44bf678585dea6b12cceca9941eaf7f819626cde1f2670de90d"
  },
  "kernelspec": {
   "display_name": "Python 3.9.0 64-bit",
   "language": "python",
   "name": "python3"
  },
  "language_info": {
   "codemirror_mode": {
    "name": "ipython",
    "version": 3
   },
   "file_extension": ".py",
   "mimetype": "text/x-python",
   "name": "python",
   "nbconvert_exporter": "python",
   "pygments_lexer": "ipython3",
   "version": "3.9.0"
  },
  "orig_nbformat": 4
 },
 "nbformat": 4,
 "nbformat_minor": 2
}
