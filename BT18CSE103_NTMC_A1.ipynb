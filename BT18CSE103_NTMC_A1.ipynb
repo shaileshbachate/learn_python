{
 "cells": [
  {
   "cell_type": "code",
   "execution_count": 1,
   "metadata": {},
   "outputs": [
    {
     "name": "stdout",
     "output_type": "stream",
     "text": [
      "hello\n"
     ]
    }
   ],
   "source": [
    "print('hello')"
   ]
  },
  {
   "cell_type": "code",
   "execution_count": 5,
   "metadata": {},
   "outputs": [
    {
     "name": "stdout",
     "output_type": "stream",
     "text": [
      "[[1, 0]]\n",
      "[[1, 0]]\n"
     ]
    }
   ],
   "source": [
    "import math\n",
    "import random\n",
    "one_by_root_two = 1/ math.sqrt(2)\n",
    "\n",
    "alice_data = '0'\n",
    "bob_data = '0'\n",
    "\n",
    "# if len(alice_data) != len(bob_data):\n",
    "#     print('msgs are unequal')\n",
    "length_of_msg = len(alice_data)\n",
    "\n",
    "my_dict = {'0': [1, 0], '1': [0, 1]}\n",
    "\n",
    "QA = [my_dict[i] for i in alice_data]\n",
    "QB = [my_dict[i] for i in bob_data]\n",
    "\n",
    "print(QA)\n",
    "print(QB)\n"
   ]
  },
  {
   "cell_type": "code",
   "execution_count": 6,
   "metadata": {},
   "outputs": [
    {
     "name": "stdout",
     "output_type": "stream",
     "text": [
      "[[0.7071067811865475, 0, 0, 0.7071067811865475], [0, 0.7071067811865475, 0.7071067811865475, 0], [0.7071067811865475, 0, 0, -0.7071067811865475], [0, 0.7071067811865475, -0.7071067811865475, 0]]\n",
      "[[0.7071067811865475, 0, 0, -0.7071067811865475]]\n"
     ]
    }
   ],
   "source": [
    "choices_li = [[one_by_root_two, 0, 0, one_by_root_two], [0, one_by_root_two, one_by_root_two, 0], [one_by_root_two, 0, 0, -one_by_root_two], [0, one_by_root_two, -one_by_root_two, 0]]\n",
    "print(choices_li)\n",
    "\n",
    "B = random.choices(choices_li, k = length_of_msg)\n",
    "print(B)"
   ]
  },
  {
   "cell_type": "code",
   "execution_count": 7,
   "metadata": {},
   "outputs": [
    {
     "name": "stdout",
     "output_type": "stream",
     "text": [
      "[[1, 0], [0, 1], [0.7071067811865475, 0.7071067811865475], [0.7071067811865475, -0.7071067811865475]]\n"
     ]
    }
   ],
   "source": [
    "decoy_photons_li = [[1, 0], [0, 1], [one_by_root_two, one_by_root_two], [one_by_root_two, -one_by_root_two]]\n",
    "print(decoy_photons_li)"
   ]
  },
  {
   "cell_type": "code",
   "execution_count": null,
   "metadata": {},
   "outputs": [],
   "source": []
  }
 ],
 "metadata": {
  "interpreter": {
   "hash": "63fd5069d213b44bf678585dea6b12cceca9941eaf7f819626cde1f2670de90d"
  },
  "kernelspec": {
   "display_name": "Python 3.9.0 64-bit",
   "language": "python",
   "name": "python3"
  },
  "language_info": {
   "codemirror_mode": {
    "name": "ipython",
    "version": 3
   },
   "file_extension": ".py",
   "mimetype": "text/x-python",
   "name": "python",
   "nbconvert_exporter": "python",
   "pygments_lexer": "ipython3",
   "version": "3.9.0"
  },
  "orig_nbformat": 4
 },
 "nbformat": 4,
 "nbformat_minor": 2
}
