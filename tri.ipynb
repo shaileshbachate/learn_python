{
 "cells": [
  {
   "cell_type": "code",
   "execution_count": 1,
   "source": [
    "import numpy as np"
   ],
   "outputs": [],
   "metadata": {}
  },
  {
   "cell_type": "code",
   "execution_count": 2,
   "source": [
    "n = 100000000\r\n",
    "arr = np.zeros(n)\r\n",
    "arr"
   ],
   "outputs": [
    {
     "output_type": "execute_result",
     "data": {
      "text/plain": [
       "array([0., 0., 0., ..., 0., 0., 0.])"
      ]
     },
     "metadata": {},
     "execution_count": 2
    }
   ],
   "metadata": {}
  },
  {
   "cell_type": "code",
   "execution_count": 8,
   "source": [
    "n = 100000000\r\n",
    "arr = [0] * n\r\n",
    "# arr"
   ],
   "outputs": [],
   "metadata": {}
  },
  {
   "cell_type": "code",
   "execution_count": 7,
   "source": [
    "n = 100000000\r\n",
    "arr = [0 for _ in range(n)]\r\n",
    "# arr"
   ],
   "outputs": [],
   "metadata": {}
  },
  {
   "cell_type": "code",
   "execution_count": null,
   "source": [
    "# def arrayManipulation(n, queries):\r\n",
    "#     arr = [0] * n\r\n",
    "#     for a, b, k in queries:\r\n",
    "#         for i in range(a-1, b):\r\n",
    "#             arr[i] += k\r\n",
    "#     return max(arr)\r\n",
    "\r\n",
    "n = 10\r\n",
    "arr = np.zeros(n)\r\n",
    "queries = [\r\n",
    "    [1, 5, 3],\r\n",
    "    [4, 8, 7],\r\n",
    "    [6, 9, 1]\r\n",
    "]\r\n",
    "for a, b, k in queries:\r\n",
    "    arr[a-1:b] += k\r\n",
    "\r\n",
    "print(np.max(arr))"
   ],
   "outputs": [],
   "metadata": {}
  }
 ],
 "metadata": {
  "orig_nbformat": 4,
  "language_info": {
   "name": "python",
   "version": "3.9.0",
   "mimetype": "text/x-python",
   "codemirror_mode": {
    "name": "ipython",
    "version": 3
   },
   "pygments_lexer": "ipython3",
   "nbconvert_exporter": "python",
   "file_extension": ".py"
  },
  "kernelspec": {
   "name": "python3",
   "display_name": "Python 3.9.0 64-bit"
  },
  "interpreter": {
   "hash": "63fd5069d213b44bf678585dea6b12cceca9941eaf7f819626cde1f2670de90d"
  }
 },
 "nbformat": 4,
 "nbformat_minor": 2
}