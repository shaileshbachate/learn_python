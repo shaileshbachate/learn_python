{
 "cells": [
  {
   "cell_type": "code",
   "execution_count": 31,
   "metadata": {},
   "outputs": [
    {
     "name": "stdout",
     "output_type": "stream",
     "text": [
      "0 1 2 3 \n",
      "8\n",
      "0 1 2 3 \n",
      "6\n"
     ]
    }
   ],
   "source": [
    "# while #\n",
    "x = 0\n",
    "while x < 4:\n",
    "    print(x, end=' ')\n",
    "    x += 1\n",
    "print()\n",
    "print(x + x)  # 8\n",
    "\n",
    "# for #\n",
    "for x in range(4):\n",
    "    print(x, end=' ')\n",
    "print()\n",
    "print(x + x)  # 6"
   ]
  },
  {
   "cell_type": "code",
   "execution_count": 32,
   "metadata": {},
   "outputs": [
    {
     "name": "stdout",
     "output_type": "stream",
     "text": [
      "1, 7;  3, 8;  4, 9;  \n",
      "[(1, 7, 10), (3, 8, 20), (4, 9, 30)]\n",
      "------------------------------------------------------------------------\n",
      "1, 7;  3, 8;  4, 9;  5, None;  \n",
      "1, 7;  3, 8;  4, 9;  5, 0;  \n"
     ]
    }
   ],
   "source": [
    "from itertools import zip_longest\n",
    "\n",
    "# zip() #\n",
    "li = [1, 3, 4, 5]\n",
    "li2 = [7, 8, 9]\n",
    "for x, y in zip(li, li2):\n",
    "    print(f\"{x}, {y}; \", end=\" \")\n",
    "print()\n",
    "\n",
    "li3 = [10,20,30]\n",
    "li4 = list(zip(li, li2, li3))\n",
    "print(li4)\n",
    "print(\"------------------------------------------------------------------------\")\n",
    "\n",
    "# zip_longest() #\n",
    "for x, y in zip_longest(li, li2):\n",
    "    print(f\"{x}, {y}; \", end=\" \")\n",
    "print()\n",
    "\n",
    "# default fillvalue is None, but we can set it to whatever value we want\n",
    "for x, y in zip_longest(li, li2, fillvalue=0):\n",
    "    print(f\"{x}, {y}; \", end=\" \")\n",
    "print()"
   ]
  },
  {
   "cell_type": "code",
   "execution_count": 33,
   "metadata": {},
   "outputs": [
    {
     "name": "stdout",
     "output_type": "stream",
     "text": [
      "2 3 4 5 \n",
      "[1, 3, 4, 5] [7, 8, 9] \n"
     ]
    }
   ],
   "source": [
    "for x in 2, 3, 4, 5:\n",
    "    print(x, end=' ')\n",
    "print()\n",
    "\n",
    "li = [1, 3, 4, 5]\n",
    "li2 = [7, 8, 9]\n",
    "for x in li, li2:\n",
    "    print(x, end=' ')\n",
    "print()"
   ]
  },
  {
   "cell_type": "code",
   "execution_count": 34,
   "metadata": {},
   "outputs": [
    {
     "name": "stdout",
     "output_type": "stream",
     "text": [
      "0 1 2 3 4 5 \n",
      "Finally finished!\n"
     ]
    }
   ],
   "source": [
    "# else in for loop #\n",
    "for x in range(6):\n",
    "    print(x, end=' ')\n",
    "else:\n",
    "    print(\"\\nFinally finished!\")"
   ]
  },
  {
   "cell_type": "code",
   "execution_count": 35,
   "metadata": {},
   "outputs": [
    {
     "name": "stdout",
     "output_type": "stream",
     "text": [
      "3 4 6 7 \n"
     ]
    }
   ],
   "source": [
    "# break, continue, pass\n",
    "for x in range(10):\n",
    "    if x > 7:\n",
    "        break\n",
    "    elif x == 5:\n",
    "        continue\n",
    "    elif x < 3:\n",
    "        pass\n",
    "    else:\n",
    "        print(x, end=' ')\n",
    "else:\n",
    "    print(\"This will not be printed\")\n",
    "# # Note: The else block will NOT be executed if the loop is stopped by a break statement.\n",
    "print()"
   ]
  }
 ],
 "metadata": {
  "kernelspec": {
   "display_name": "Python 3",
   "language": "python",
   "name": "python3"
  },
  "language_info": {
   "codemirror_mode": {
    "name": "ipython",
    "version": 3
   },
   "file_extension": ".py",
   "mimetype": "text/x-python",
   "name": "python",
   "nbconvert_exporter": "python",
   "pygments_lexer": "ipython3",
   "version": "3.10.6"
  }
 },
 "nbformat": 4,
 "nbformat_minor": 2
}
