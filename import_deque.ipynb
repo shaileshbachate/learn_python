{
 "cells": [
  {
   "cell_type": "markdown",
   "metadata": {},
   "source": [
    "## Python Deque\n",
    "\n",
    "If you often work with lists in Python, then you probably know that they don’t perform fast enough when you need to pop and append items on their left end. Python’s collections module provides a class called `deque` that’s specially designed to provide `fast` and `memory-efficient` ways to `append` and `pop` item from `both ends` of the underlying data structure.\n",
    "\n",
    "Python’s deque is a `low-level and highly optimized double-ended queue` that’s useful for implementing elegant, efficient, and Pythonic queues and stacks, which are the most common list-like data types in computing."
   ]
  },
  {
   "cell_type": "code",
   "execution_count": 35,
   "metadata": {},
   "outputs": [],
   "source": [
    "from collections import deque"
   ]
  },
  {
   "cell_type": "code",
   "execution_count": 36,
   "metadata": {},
   "outputs": [
    {
     "name": "stdout",
     "output_type": "stream",
     "text": [
      "deque(['Shailesh', 1, True])\n",
      "deque([False, 'qwerty', 10])\n",
      "deque([5, 8, 11, 14, 17, 20, 23, 26])\n",
      "deque(['m', 'y', ' ', 's', 't', 'r', 'i', 'n', 'g', ' ', 'v', 'a', 'l', 'u', 'e'])\n",
      "deque(['one', 'two'])\n",
      "deque(['one', 'two'])\n",
      "deque([1, 2])\n",
      "deque([('one', 1), ('two', 2)])\n"
     ]
    }
   ],
   "source": [
    "d = deque([\"Shailesh\", 1, True])\n",
    "print(d)\n",
    "\n",
    "d = deque((False, \"qwerty\", 10))\n",
    "print(d)\n",
    "\n",
    "d = deque(range(5, 28, 3))\n",
    "print(d)\n",
    "\n",
    "d = deque(\"my string value\")\n",
    "print(d)\n",
    "\n",
    "d = deque({ \"one\": 1, \"two\": 2 })\n",
    "print(d)\n",
    "\n",
    "d = deque({ \"one\": 1, \"two\": 2 }.keys())\n",
    "print(d)\n",
    "\n",
    "d = deque({ \"one\": 1, \"two\": 2 }.values())\n",
    "print(d)\n",
    "\n",
    "d = deque({ \"one\": 1, \"two\": 2 }.items())\n",
    "print(d)"
   ]
  },
  {
   "cell_type": "code",
   "execution_count": 37,
   "metadata": {},
   "outputs": [],
   "source": [
    "s = deque()"
   ]
  },
  {
   "cell_type": "code",
   "execution_count": 38,
   "metadata": {},
   "outputs": [
    {
     "name": "stdout",
     "output_type": "stream",
     "text": [
      "deque([1, 2])\n",
      "deque([0, 1, 2])\n"
     ]
    }
   ],
   "source": [
    "s.append(1)\n",
    "s.append(2)\n",
    "print(s)\n",
    "\n",
    "s.appendleft(0)\n",
    "print(s)"
   ]
  },
  {
   "cell_type": "code",
   "execution_count": 39,
   "metadata": {},
   "outputs": [
    {
     "name": "stdout",
     "output_type": "stream",
     "text": [
      "deque([0, 1])\n",
      "deque([1])\n"
     ]
    }
   ],
   "source": [
    "s.pop()\n",
    "print(s)\n",
    "\n",
    "s.popleft()\n",
    "print(s)"
   ]
  },
  {
   "cell_type": "code",
   "execution_count": 40,
   "metadata": {},
   "outputs": [
    {
     "name": "stdout",
     "output_type": "stream",
     "text": [
      "deque([1, 2, 3])\n"
     ]
    }
   ],
   "source": [
    "s.append(2)\n",
    "s.append(3)\n",
    "print(s)"
   ]
  },
  {
   "cell_type": "code",
   "execution_count": 41,
   "metadata": {},
   "outputs": [
    {
     "name": "stdout",
     "output_type": "stream",
     "text": [
      "deque([3, 2, 1])\n",
      "deque([1, 2, 3])\n",
      "deque([3, 2, 1])\n",
      "1\n"
     ]
    }
   ],
   "source": [
    "s.reverse() # reverses the deque and returns None\n",
    "print(s)\n",
    "\n",
    "print(deque(reversed(s))) # reversed(s): returns a reverse iterator over the values of the given sequence, but does not change the original variable\n",
    "print(s)\n",
    "\n",
    "print(s.index(2))"
   ]
  },
  {
   "cell_type": "code",
   "execution_count": 42,
   "metadata": {},
   "outputs": [
    {
     "name": "stdout",
     "output_type": "stream",
     "text": [
      "deque([True, False, True, 3, 2, 1, 'one', 'two', 'three'])\n"
     ]
    }
   ],
   "source": [
    "d1 = deque([\"one\", \"two\", \"three\"])\n",
    "s.extend(d1)\n",
    "d2 = deque([True, False, True])\n",
    "s.extendleft(d2)\n",
    "print(s)"
   ]
  },
  {
   "cell_type": "code",
   "execution_count": null,
   "metadata": {},
   "outputs": [],
   "source": []
  },
  {
   "cell_type": "code",
   "execution_count": 43,
   "metadata": {},
   "outputs": [
    {
     "name": "stdout",
     "output_type": "stream",
     "text": [
      "deque([True, 'inserted at index 1', False, True, 3, 2, 1, 'one', 'two', 'three'])\n"
     ]
    }
   ],
   "source": [
    "s.insert(1, \"inserted at index 1\") # Insert an item value into a deque at index i\n",
    "print(s)"
   ]
  },
  {
   "cell_type": "code",
   "execution_count": 44,
   "metadata": {},
   "outputs": [
    {
     "name": "stdout",
     "output_type": "stream",
     "text": [
      "deque(['inserted at index 1', False, True, 3, 2, 1, 'one', 'two', 'three'])\n"
     ]
    }
   ],
   "source": [
    "s.remove(True) # Remove the first occurrence of value, raising ValueError if the value doesn’t exist\n",
    "print(s)"
   ]
  },
  {
   "cell_type": "code",
   "execution_count": 45,
   "metadata": {},
   "outputs": [
    {
     "name": "stdout",
     "output_type": "stream",
     "text": [
      "deque(['inserted at index 1', True, 3, 2, 1, 'one', 'two', 'three'])\n"
     ]
    }
   ],
   "source": [
    "del s[1] # Remove the item at index i from a deque\n",
    "print(s)"
   ]
  },
  {
   "cell_type": "code",
   "execution_count": 46,
   "metadata": {},
   "outputs": [
    {
     "name": "stdout",
     "output_type": "stream",
     "text": [
      "inserted at index 1 | True | 3 | 2 | 1 | one | two | three | \n",
      "inserted at index 1 | True | 3 | 2 | 1 | one | two | three | \n"
     ]
    }
   ],
   "source": [
    "for x in s:\n",
    "    print(x, end=' | ')\n",
    "print()\n",
    "\n",
    "for i in range(len(s)):\n",
    "    print(s[i], end=' | ')\n",
    "print()"
   ]
  },
  {
   "cell_type": "markdown",
   "metadata": {},
   "source": [
    "`Even though deque objects support indexing, they don’t support slicing. In other words, you can’t extract a slice from an existing deque using the slicing syntax, [start:stop:step], as you would with a regular list:`"
   ]
  },
  {
   "cell_type": "code",
   "execution_count": 47,
   "metadata": {},
   "outputs": [],
   "source": [
    "# s[1:3] # TypeError: sequence index must be integer, not 'slice'"
   ]
  },
  {
   "cell_type": "markdown",
   "metadata": {},
   "source": [
    "Deques support indexing, but interestingly, they don’t support slicing. When you try to get a slice from a deque, you get a TypeError. In general, performing a slicing on a linked list would be inefficient, so the operation isn’t available.\n",
    "\n",
    "So far, you’ve seen that deque is quite similar to list. However, while list is based on arrays, deque is based on a doubly linked list.\n",
    "\n",
    "There is a hidden cost behind deque being implemented as a doubly linked list: accessing, inserting, and removing arbitrary items aren’t efficient operations. To perform them, the interpreter has to iterate through the deque until it gets to the desired item. So, they’re O(n) instead of O(1) operations.\n",
    "\n",
    "Here’s a script that shows how deques and lists behave when it comes to working with arbitrary items:\n",
    "\n",
    "This script times inserting, deleting, and accessing items in the middle of a deque and a list"
   ]
  },
  {
   "cell_type": "code",
   "execution_count": 48,
   "metadata": {},
   "outputs": [
    {
     "name": "stdout",
     "output_type": "stream",
     "text": [
      "list  44.4566 μs (1.09357x faster)\n",
      "deque 48.6166 μs\n"
     ]
    }
   ],
   "source": [
    "# time_random_access.py\n",
    "\n",
    "from collections import deque\n",
    "from time import perf_counter\n",
    "\n",
    "TIMES = 10_000\n",
    "a_list = [1] * TIMES\n",
    "a_deque = deque(a_list)\n",
    "\n",
    "def average_time(func, times):\n",
    "    total = 0.0\n",
    "    for _ in range(times):\n",
    "        start = perf_counter()\n",
    "        func()\n",
    "        total += (perf_counter() - start) * 1e6\n",
    "    return total / times\n",
    "\n",
    "def time_it(sequence):\n",
    "    middle = len(sequence) // 2\n",
    "    sequence.insert(middle, \"middle\")\n",
    "    sequence[middle]\n",
    "    sequence.remove(\"middle\")\n",
    "    del sequence[middle]\n",
    "\n",
    "list_time = average_time(lambda: time_it(a_list), TIMES)\n",
    "deque_time = average_time(lambda: time_it(a_deque), TIMES)\n",
    "gain = deque_time / list_time\n",
    "\n",
    "print(f\"list  {list_time:.6} μs ({gain:.6}x faster)\")\n",
    "print(f\"deque {deque_time:.6} μs\")"
   ]
  },
  {
   "cell_type": "markdown",
   "metadata": {},
   "source": [
    "Deques aren’t random-access data structures like lists. Therefore, accessing elements from the middle of a deque is less efficient than doing the same thing on a list. The main takeaway here is that deques aren’t always more efficient than lists.\n",
    "\n",
    "Python’s deque is optimized for operations on either end of the sequence, so they’re consistently better than lists in this regard. On the other hand, lists are better for random-access and fixed-length operations. Here are some of the differences between deques and lists in terms of performance:\n",
    "\n",
    "| Operation                                    | deque | list                |\n",
    "|----------------------------------------------|-------|---------------------|\n",
    "| Accessing arbitrary items through indexing   | O(n)  | O(1)                |\n",
    "| Popping and appending items on the left end  | O(1)  | O(n)                |\n",
    "| Popping and appending items on the right end | O(1)  | O(1) + reallocation |\n",
    "| Inserting and deleting items in the middle   | O(n)  | O(n)                |\n",
    "\n",
    "In the case of lists, .append() has amortized performance affected by memory reallocation when the interpreter needs to grow the list to accept new items. This operation requires copying all the current items to the new memory location, which significantly affects the performance.\n",
    "\n",
    "This summary can help you choose the appropriate data type for the problem at hand. However, make sure to profile your code before switching from lists to deques. Both of them have their performance strengths."
   ]
  },
  {
   "cell_type": "markdown",
   "metadata": {},
   "source": [
    "### Limiting the Maximum Number of Items: maxlen\n",
    "One of the most useful features of deque is the possibility to specify the **maximum length** of a given deque using the maxlen argument when you’re instantiating the class.\n",
    "\n",
    "If you supply a value to maxlen, then your deque will only store up to maxlen items. In this case, you have a bounded deque. Once a **bounded deque** is full with the specified number of items, adding a new item at either end automatically removes and discards the item at the opposite end:"
   ]
  },
  {
   "cell_type": "code",
   "execution_count": 49,
   "metadata": {},
   "outputs": [
    {
     "name": "stdout",
     "output_type": "stream",
     "text": [
      "deque([1, 2, 3, 4, 5], maxlen=5)\n",
      "deque([2, 3, 4, 5, 6], maxlen=5)\n",
      "deque([3, 4, 5, 6, 7], maxlen=5)\n",
      "deque([2, 3, 4, 5, 6], maxlen=5)\n",
      "deque([1, 2, 3, 4, 5], maxlen=5)\n",
      "5\n"
     ]
    }
   ],
   "source": [
    "\n",
    "five_numbers = deque([0, 1, 2, 3, 4, 5], maxlen=5) # Discard 0\n",
    "print(five_numbers)\n",
    "# deque([1, 2, 3, 4, 5], maxlen=5)\n",
    "\n",
    "five_numbers.append(6)  # Automatically remove 1\n",
    "print(five_numbers)\n",
    "# deque([2, 3, 4, 5, 6], maxlen=5)\n",
    "\n",
    "five_numbers.append(7)  # Automatically remove 2\n",
    "print(five_numbers)\n",
    "# deque([3, 4, 5, 6, 7], maxlen=5)\n",
    "\n",
    "five_numbers.appendleft(2) # Automatically remove 7\n",
    "print(five_numbers)\n",
    "# deque([2, 3, 4, 5, 6], maxlen=5)\n",
    "\n",
    "five_numbers.appendleft(1)  # Automatically remove 6\n",
    "print(five_numbers)\n",
    "# deque([1, 2, 3, 4, 5], maxlen=5)\n",
    "\n",
    "print(five_numbers.maxlen)"
   ]
  },
  {
   "cell_type": "markdown",
   "metadata": {},
   "source": [
    "### Rotating the Items: .rotate()\n",
    "Another interesting feature of deques is the possibility to rotate their elements by calling .rotate() on a non-empty deque. This method takes an integer n as an argument and rotates the items n steps to the right. In other words, it moves n items from the right end to the left end in a circular fashion.\n",
    "\n",
    "The default value of n is 1. If you provide a negative value to n, then the rotation is to the left"
   ]
  },
  {
   "cell_type": "code",
   "execution_count": 50,
   "metadata": {},
   "outputs": [
    {
     "name": "stdout",
     "output_type": "stream",
     "text": [
      "deque(['third', 'first', 'second'])\n",
      "deque(['first', 'second', 'third'])\n",
      "deque(['third', 'first', 'second'])\n",
      "deque(['first', 'second', 'third'])\n"
     ]
    }
   ],
   "source": [
    "ordinals = deque([\"first\", \"second\", \"third\"])\n",
    "\n",
    "# Rotate items to the right\n",
    "ordinals.rotate()\n",
    "print(ordinals)\n",
    "# deque(['third', 'first', 'second'])\n",
    "\n",
    "ordinals.rotate(2)\n",
    "print(ordinals)\n",
    "# deque(['first', 'second', 'third'])\n",
    "\n",
    "# Rotate items to the left\n",
    "ordinals.rotate(-2)\n",
    "print(ordinals)\n",
    "# deque(['third', 'first', 'second'])\n",
    "\n",
    "ordinals.rotate(-1)\n",
    "print(ordinals)\n",
    "# deque(['first', 'second', 'third'])"
   ]
  },
  {
   "cell_type": "markdown",
   "metadata": {},
   "source": [
    "### Using Sequence-Like Features of deque\n",
    "\n",
    "| Method        | Description                                                      |\n",
    "|---------------|------------------------------------------------------------------|\n",
    "| .clear()      | Remove all the elements from a deque.                            |\n",
    "| .copy()       | Create a shallow copy of a deque.                                |\n",
    "| .count(value) | Count the number times value appears in a deque.                 |\n",
    "| .index(value) | Return the position of value in the deque.                       |\n",
    "| .reverse()    | Reverse the elements of the deque in place and then return None. |"
   ]
  },
  {
   "cell_type": "code",
   "execution_count": 51,
   "metadata": {},
   "outputs": [
    {
     "name": "stdout",
     "output_type": "stream",
     "text": [
      "deque([1, 2, 2, 3, 4, 4, 5, 6, 7, 8])\n",
      "deque([1, 2, 2, 3, 4, 4, 5, 1, 2, 2, 3, 4, 4, 5])\n",
      "1\n",
      "1\n",
      "deque([5, 4, 4, 3, 2, 2, 1])\n",
      "deque([])\n"
     ]
    }
   ],
   "source": [
    "numbers = deque([1, 2, 2, 3, 4, 4, 5])\n",
    "\n",
    "# Concatenation\n",
    "print(numbers + deque([6, 7, 8]))\n",
    "# deque([1, 2, 2, 3, 4, 4, 5, 6, 7, 8])\n",
    "\n",
    "# Repetition\n",
    "print(numbers * 2)\n",
    "# deque([1, 2, 2, 3, 4, 4, 5, 1, 2, 2, 3, 4, 4, 5])\n",
    "\n",
    "# Common sequence methods\n",
    "numbers = deque([1, 2, 2, 3, 4, 4, 5])\n",
    "print(numbers.index(2)) # 1\n",
    "print(numbers.count(3)) # 2\n",
    "\n",
    "# Common mutable sequence methods\n",
    "numbers.reverse()\n",
    "print(numbers)\n",
    "# deque([5, 4, 4, 3, 2, 2, 1])\n",
    "\n",
    "numbers.clear()\n",
    "print(numbers)\n",
    "# deque([])"
   ]
  }
 ],
 "metadata": {
  "kernelspec": {
   "display_name": "Python 3",
   "language": "python",
   "name": "python3"
  },
  "language_info": {
   "codemirror_mode": {
    "name": "ipython",
    "version": 3
   },
   "file_extension": ".py",
   "mimetype": "text/x-python",
   "name": "python",
   "nbconvert_exporter": "python",
   "pygments_lexer": "ipython3",
   "version": "3.10.6"
  }
 },
 "nbformat": 4,
 "nbformat_minor": 2
}
