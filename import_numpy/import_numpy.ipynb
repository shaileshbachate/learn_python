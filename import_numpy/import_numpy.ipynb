{
    "cells": [
        {
            "cell_type": "markdown",
            "source": [
                "# numpy"
            ],
            "metadata": {}
        },
        {
            "cell_type": "code",
            "execution_count": 4,
            "source": [
                "import numpy as np"
            ],
            "outputs": [],
            "metadata": {}
        },
        {
            "cell_type": "code",
            "execution_count": 5,
            "source": [
                "li = [2,4,3, 1, 0]\r\n",
                "print(li, type(li))\r\n",
                "\r\n",
                "arr = np.array(li)\r\n",
                "print(arr, type(arr))\r\n",
                "print(f'arr.ndim    =>  {arr.ndim}')\r\n",
                "print(f'arr.shape   =>  {arr.shape}')\r\n",
                "print(f'arr.dtype   =>  {arr.dtype}')\r\n",
                "print(f'arr.size    =>  {arr.size}')\r\n",
                "print(f'len(arr)    =>  {len(arr)}')\r\n",
                "\r\n",
                "# arr = np.array(4,3,1,4)  # ValueError: only 2 non-keyword arguments accepted"
            ],
            "outputs": [
                {
                    "output_type": "stream",
                    "name": "stdout",
                    "text": [
                        "[2, 4, 3, 1, 0] <class 'list'>\n",
                        "[2 4 3 1 0] <class 'numpy.ndarray'>\n",
                        "arr.ndim    =>  1\n",
                        "arr.shape   =>  (5,)\n",
                        "arr.dtype   =>  int32\n",
                        "arr.size    =>  5\n",
                        "len(arr)    =>  5\n"
                    ]
                }
            ],
            "metadata": {}
        },
        {
            "cell_type": "code",
            "execution_count": 6,
            "source": [
                "arr = np.array([[9.0, 3.4, 5],[4.5, 6.0]])\r\n",
                "print(arr, type(arr))\r\n",
                "print(f'arr.ndim    =>  {arr.ndim}')\r\n",
                "print(f'arr.shape   =>  {arr.shape}')\r\n",
                "print(f'arr.dtype   =>  {arr.dtype}') # object\r\n",
                "print(\"--------------------------------------------------\")\r\n",
                "\r\n",
                "arr = np.array([[9.0, 3.4, 5],[4.5, 6.0, 8]])\r\n",
                "print(arr, type(arr))\r\n",
                "print(f'arr.ndim    =>  {arr.ndim}')\r\n",
                "print(f'arr.shape   =>  {arr.shape}')\r\n",
                "print(f'arr.dtype   =>  {arr.dtype}') # float64\r\n",
                "print(f'arr.size    =>  {arr.size}')\r\n",
                "print(f'len(arr)    =>  {len(arr)}')"
            ],
            "outputs": [
                {
                    "output_type": "stream",
                    "name": "stdout",
                    "text": [
                        "[list([9.0, 3.4, 5]) list([4.5, 6.0])] <class 'numpy.ndarray'>\n",
                        "arr.ndim    =>  1\n",
                        "arr.shape   =>  (2,)\n",
                        "arr.dtype   =>  object\n",
                        "--------------------------------------------------\n",
                        "[[9.  3.4 5. ]\n",
                        " [4.5 6.  8. ]] <class 'numpy.ndarray'>\n",
                        "arr.ndim    =>  2\n",
                        "arr.shape   =>  (2, 3)\n",
                        "arr.dtype   =>  float64\n",
                        "arr.size    =>  6\n",
                        "len(arr)    =>  2\n"
                    ]
                }
            ],
            "metadata": {}
        },
        {
            "cell_type": "code",
            "execution_count": 7,
            "source": [
                "arr = np.array([3, 4, 2], dtype='int16')\r\n",
                "print(f'arr             =>  {arr}')\r\n",
                "print(f'arr.dtype       =>  {arr.dtype}')\r\n",
                "print(f'arr.itemsize    =>  {arr.itemsize}')\r\n",
                "print(f'arr.size        =>  {arr.size}')\r\n",
                "print(f'len(arr)        =>  {len(arr)}')\r\n",
                "print(f'arr.nbytes      =>  {arr.nbytes}')\r\n",
                "# arr.dtype = 'int32' # ValueError: When changing to a larger dtype, its size must be a divisor of the total size in bytes of the last axis of the array."
            ],
            "outputs": [
                {
                    "output_type": "stream",
                    "name": "stdout",
                    "text": [
                        "arr             =>  [3 4 2]\n",
                        "arr.dtype       =>  int16\n",
                        "arr.itemsize    =>  2\n",
                        "arr.size        =>  3\n",
                        "len(arr)        =>  3\n",
                        "arr.nbytes      =>  6\n"
                    ]
                }
            ],
            "metadata": {}
        },
        {
            "cell_type": "code",
            "execution_count": 8,
            "source": [
                "arr = np.array([3, 4, 2, 8], dtype='int16')\r\n",
                "print(f'arr             =>  {arr}')\r\n",
                "print(f'arr.dtype       =>  {arr.dtype}')\r\n",
                "print(f'arr.itemsize    =>  {arr.itemsize}')\r\n",
                "print(f'arr.size        =>  {arr.size}')\r\n",
                "print(f'len(arr)        =>  {len(arr)}')\r\n",
                "print(f'arr.nbytes      =>  {arr.nbytes}')\r\n",
                "print(\"--------------------------------------------------\")\r\n",
                "\r\n",
                "arr.dtype = 'int32'\r\n",
                "print(f'arr             =>  {arr}') #  # garbage values\r\n",
                "print(f'arr.dtype       =>  {arr.dtype}')\r\n",
                "print(f'arr.itemsize    =>  {arr.itemsize}')\r\n",
                "print(f'arr.size        =>  {arr.size}')\r\n",
                "print(f'len(arr)        =>  {len(arr)}')\r\n",
                "print(f'arr.nbytes      =>  {arr.nbytes}')"
            ],
            "outputs": [
                {
                    "output_type": "stream",
                    "name": "stdout",
                    "text": [
                        "arr             =>  [3 4 2 8]\n",
                        "arr.dtype       =>  int16\n",
                        "arr.itemsize    =>  2\n",
                        "arr.size        =>  4\n",
                        "len(arr)        =>  4\n",
                        "arr.nbytes      =>  8\n",
                        "--------------------------------------------------\n",
                        "arr             =>  [262147 524290]\n",
                        "arr.dtype       =>  int32\n",
                        "arr.itemsize    =>  4\n",
                        "arr.size        =>  2\n",
                        "len(arr)        =>  2\n",
                        "arr.nbytes      =>  8\n"
                    ]
                }
            ],
            "metadata": {}
        },
        {
            "cell_type": "markdown",
            "source": [
                "## numpy array shape, reshape()"
            ],
            "metadata": {}
        },
        {
            "cell_type": "code",
            "execution_count": 9,
            "source": [
                "arr = np.array([2,5,3,4,4,7])\r\n",
                "print(arr.shape)\r\n",
                "\r\n",
                "arr.shape = (2,3)\r\n",
                "print(f'arr         =>  {arr}')\r\n",
                "print(f'arr.shape   =>  {arr.shape}')\r\n",
                "print(f'arr.size    =>  {arr.size}')\r\n",
                "print(f'len(arr)    =>  {len(arr)}')\r\n",
                "print(\"------------------------------------------------------------------------\")\r\n",
                "\r\n",
                "arr = np.array([2,5,3,4,4,7])\r\n",
                "print(arr.shape)\r\n",
                "\r\n",
                "arr2 = arr.reshape(2,3)\r\n",
                "print(f'arr         =>  {arr}')\r\n",
                "print(f'arr.shape   =>  {arr.shape}')\r\n",
                "print(f'arr.size    =>  {arr.size}')\r\n",
                "print(f'len(arr)    =>  {len(arr)}')\r\n",
                "print(f'arr2        =>  {arr2}')\r\n",
                "print(f'arr2.shape  =>  {arr2.shape}')\r\n",
                "print(f'arr2.size   =>  {arr2.size}')\r\n",
                "print(f'len(arr2)   =>  {len(arr2)}')"
            ],
            "outputs": [
                {
                    "output_type": "stream",
                    "name": "stdout",
                    "text": [
                        "(6,)\n",
                        "arr         =>  [[2 5 3]\n",
                        " [4 4 7]]\n",
                        "arr.shape   =>  (2, 3)\n",
                        "arr.size    =>  6\n",
                        "len(arr)    =>  2\n",
                        "------------------------------------------------------------------------\n",
                        "(6,)\n",
                        "arr         =>  [2 5 3 4 4 7]\n",
                        "arr.shape   =>  (6,)\n",
                        "arr.size    =>  6\n",
                        "len(arr)    =>  6\n",
                        "arr2        =>  [[2 5 3]\n",
                        " [4 4 7]]\n",
                        "arr2.shape  =>  (2, 3)\n",
                        "arr2.size   =>  6\n",
                        "len(arr2)   =>  2\n"
                    ]
                }
            ],
            "metadata": {}
        },
        {
            "cell_type": "markdown",
            "source": [
                "## Converting numpy arrays to list, set etc."
            ],
            "metadata": {}
        },
        {
            "cell_type": "code",
            "execution_count": 10,
            "source": [
                "li = [1, 2, 3, 2]\r\n",
                "print(li, type(li))\r\n",
                "\r\n",
                "arr = np.array(li)\r\n",
                "print(arr, type(arr))\r\n",
                "\r\n",
                "li = list(arr)\r\n",
                "print(li, type(li))\r\n",
                "\r\n",
                "s = set(arr)\r\n",
                "print(s, type(s))\r\n",
                "\r\n",
                "tu = tuple(arr)\r\n",
                "print(tu, type(tu))\r\n"
            ],
            "outputs": [
                {
                    "output_type": "stream",
                    "name": "stdout",
                    "text": [
                        "[1, 2, 3, 2] <class 'list'>\n",
                        "[1 2 3 2] <class 'numpy.ndarray'>\n",
                        "[1, 2, 3, 2] <class 'list'>\n",
                        "{1, 2, 3} <class 'set'>\n",
                        "(1, 2, 3, 2) <class 'tuple'>\n"
                    ]
                }
            ],
            "metadata": {}
        },
        {
            "cell_type": "markdown",
            "source": [
                "## numpy array iterating"
            ],
            "metadata": {}
        },
        {
            "cell_type": "code",
            "execution_count": 11,
            "source": [
                "arr = np.array([[1,2,3], [4,5,6]])\r\n",
                "\r\n",
                "for a in arr:\r\n",
                "    for b in a:\r\n",
                "        print(b, end=' ')\r\n",
                "print()\r\n",
                "print(\"------------------------------------------------------------------------\")\r\n",
                "\r\n",
                "# # Iterating on each scalar element #\r\n",
                "\r\n",
                "for element in np.nditer(arr):\r\n",
                "    print(element, end=' ')\r\n",
                "print()\r\n",
                "\r\n",
                "for posn, element in np.ndenumerate(arr):\r\n",
                "    print(posn, element, end=' | ')\r\n",
                "print()\r\n",
                "\r\n",
                "for (i, j), element in np.ndenumerate(arr):\r\n",
                "    print(f'{i},{j} - {element}', end=' | ')\r\n",
                "print()\r\n",
                "print(\"------------------------------------------------------------------------\")\r\n",
                "\r\n",
                "mat = [[1,2,3], [4,5,6]]\r\n",
                "for posn, element in np.ndenumerate(mat):\r\n",
                "    print(posn, element, end=' | ')\r\n",
                "print()\r\n",
                "\r\n",
                "for (i, j), element in np.ndenumerate(mat):\r\n",
                "    print(f'{i},{j} - {element}', end=' | ')\r\n",
                "print()\r\n"
            ],
            "outputs": [
                {
                    "output_type": "stream",
                    "name": "stdout",
                    "text": [
                        "1 2 3 4 5 6 \n",
                        "------------------------------------------------------------------------\n",
                        "1 2 3 4 5 6 \n",
                        "(0, 0) 1 | (0, 1) 2 | (0, 2) 3 | (1, 0) 4 | (1, 1) 5 | (1, 2) 6 | \n",
                        "0,0 - 1 | 0,1 - 2 | 0,2 - 3 | 1,0 - 4 | 1,1 - 5 | 1,2 - 6 | \n",
                        "------------------------------------------------------------------------\n",
                        "(0, 0) 1 | (0, 1) 2 | (0, 2) 3 | (1, 0) 4 | (1, 1) 5 | (1, 2) 6 | \n",
                        "0,0 - 1 | 0,1 - 2 | 0,2 - 3 | 1,0 - 4 | 1,1 - 5 | 1,2 - 6 | \n"
                    ]
                }
            ],
            "metadata": {}
        },
        {
            "cell_type": "markdown",
            "source": [
                "## numpy array slice"
            ],
            "metadata": {}
        },
        {
            "cell_type": "code",
            "execution_count": 12,
            "source": [
                "arr = np.array([[1, 2, 3, 4, 5], [10, 20, 30, 40, 50], [100, 200, 300, 400, 500]])\r\n",
                "print(arr)\r\n",
                "arr[1:, 1:4] += 5\r\n",
                "print(arr)\r\n",
                "print(\"------------------------------------------------------------------------\")\r\n",
                "\r\n",
                "arr_slice = arr[1:, 1:4]\r\n",
                "arr_slice += 5\r\n",
                "print(arr)"
            ],
            "outputs": [
                {
                    "output_type": "stream",
                    "name": "stdout",
                    "text": [
                        "[[  1   2   3   4   5]\n",
                        " [ 10  20  30  40  50]\n",
                        " [100 200 300 400 500]]\n",
                        "[[  1   2   3   4   5]\n",
                        " [ 10  25  35  45  50]\n",
                        " [100 205 305 405 500]]\n",
                        "------------------------------------------------------------------------\n",
                        "[[  1   2   3   4   5]\n",
                        " [ 10  30  40  50  50]\n",
                        " [100 210 310 410 500]]\n"
                    ]
                }
            ],
            "metadata": {}
        },
        {
            "cell_type": "markdown",
            "source": [
                "## numpy array slice, copy()"
            ],
            "metadata": {}
        },
        {
            "cell_type": "code",
            "execution_count": 13,
            "source": [
                "arr = np.arange(5)\r\n",
                "print(arr)\r\n",
                "arr_slice = arr[1:4]\r\n",
                "arr_slice1 = arr[1:4]\r\n",
                "arr_slice2 = arr[1:4].copy()\r\n",
                "\r\n",
                "# arr_slice[1] = [9, 4] # ValueError: setting an array element with a sequence.\r\n",
                "# arr_slice[10] = 9 # IndexError: index 10 is out of bounds for axis 0 with size 3\r\n",
                "arr_slice[0] = 8\r\n",
                "print(arr, arr_slice, arr_slice1, arr_slice2)\r\n",
                "\r\n",
                "arr_slice2[1] = 9\r\n",
                "print(arr, arr_slice, arr_slice1, arr_slice2)\r\n",
                "\r\n",
                "arr2 = arr\r\n",
                "arr3 = arr.copy()\r\n",
                "arr[0] = 999\r\n",
                "print(arr, arr2, arr3)"
            ],
            "outputs": [
                {
                    "output_type": "stream",
                    "name": "stdout",
                    "text": [
                        "[0 1 2 3 4]\n",
                        "[0 8 2 3 4] [8 2 3] [8 2 3] [1 2 3]\n",
                        "[0 8 2 3 4] [8 2 3] [8 2 3] [1 9 3]\n",
                        "[999   8   2   3   4] [999   8   2   3   4] [0 8 2 3 4]\n"
                    ]
                }
            ],
            "metadata": {}
        },
        {
            "cell_type": "markdown",
            "source": [
                "## np.zeros(), np.ones()"
            ],
            "metadata": {}
        },
        {
            "cell_type": "code",
            "execution_count": 14,
            "source": [
                "z = np.zeros(10)\r\n",
                "o = np.ones(10)\r\n",
                "print(z, o)\r\n",
                "print(z.dtype, o.dtype)\r\n",
                "print(\"------------------------------------------------------------------------\")\r\n",
                "\r\n",
                "z = np.zeros(10, dtype=np.int32)\r\n",
                "o = np.ones(10, dtype='i4')\r\n",
                "print(z)\r\n",
                "print(o)\r\n",
                "print(\"------------------------------------------------------------------------\")\r\n",
                "\r\n",
                "z = np.zeros(shape=(3, 4), dtype='i2')\r\n",
                "o = np.ones((2, 3))\r\n",
                "print(z)\r\n",
                "print(o)"
            ],
            "outputs": [
                {
                    "output_type": "stream",
                    "name": "stdout",
                    "text": [
                        "[0. 0. 0. 0. 0. 0. 0. 0. 0. 0.] [1. 1. 1. 1. 1. 1. 1. 1. 1. 1.]\n",
                        "float64 float64\n",
                        "------------------------------------------------------------------------\n",
                        "[0 0 0 0 0 0 0 0 0 0]\n",
                        "[1 1 1 1 1 1 1 1 1 1]\n",
                        "------------------------------------------------------------------------\n",
                        "[[0 0 0 0]\n",
                        " [0 0 0 0]\n",
                        " [0 0 0 0]]\n",
                        "[[1. 1. 1.]\n",
                        " [1. 1. 1.]]\n"
                    ]
                }
            ],
            "metadata": {}
        },
        {
            "cell_type": "markdown",
            "source": [
                "## arange()"
            ],
            "metadata": {}
        },
        {
            "cell_type": "code",
            "execution_count": 15,
            "source": [
                "a = np.arange(10)\r\n",
                "b = np.arange(5, 10)\r\n",
                "c = np.arange(5, 20, 3)\r\n",
                "d = np.arange(5, 10, 1.5)\r\n",
                "e = np.arange(5, 10, dtype='f4')\r\n",
                "print(a, b, c, d, e)\r\n",
                "print(a.dtype, b.dtype, c.dtype, d.dtype, e.dtype)"
            ],
            "outputs": [
                {
                    "output_type": "stream",
                    "name": "stdout",
                    "text": [
                        "[0 1 2 3 4 5 6 7 8 9] [5 6 7 8 9] [ 5  8 11 14 17] [5.  6.5 8.  9.5] [5. 6. 7. 8. 9.]\n",
                        "int32 int32 int32 float64 float32\n"
                    ]
                }
            ],
            "metadata": {}
        },
        {
            "cell_type": "markdown",
            "source": [
                "## linspace()\r\n",
                "\r\n",
                "    np.linspace(start=, stop=, num=50, endpoint=True, retstep=False, dtype=None, axis=0)"
            ],
            "metadata": {}
        },
        {
            "cell_type": "code",
            "execution_count": 16,
            "source": [
                "l = np.linspace(start=0, stop=20, num=50, endpoint=True, retstep=False, dtype=None, axis=0)\r\n",
                "print(l)\r\n",
                "\r\n",
                "# Default values: num=50, endpoint=True, retstep=False, dtype=None, axis=0\r\n",
                "\r\n",
                "l = np.linspace(0, 98)\r\n",
                "print(l)\r\n",
                "print(f'l.size      =>  {l.size}')\r\n",
                "print(f'l.ndim      =>  {l.ndim}')\r\n",
                "print(f'l.dtype     =>  {l.dtype}')\r\n",
                "print(f'l.shape     =>  {l.shape}')\r\n",
                "print(f'l.itemsize  =>  {l.itemsize}')\r\n",
                "\r\n",
                "l = np.linspace(0, 10, 5)\r\n",
                "print(f'l           => {l}')\r\n",
                "l = np.linspace(0, 20, 10, False)\r\n",
                "print(f'l           => {l}')\r\n",
                "l = np.linspace(0, 20, 5, endpoint=False)\r\n",
                "print(f'l           => {l}')\r\n",
                "l = np.linspace(0, 20, 5, endpoint=True, retstep=True)\r\n",
                "print(f'l               => {l}')\r\n",
                "print(f'array : l[0]    => {l[0]}')\r\n",
                "print(f'retstep : l[1]  => {l[1]}')"
            ],
            "outputs": [
                {
                    "output_type": "stream",
                    "name": "stdout",
                    "text": [
                        "[ 0.          0.40816327  0.81632653  1.2244898   1.63265306  2.04081633\n",
                        "  2.44897959  2.85714286  3.26530612  3.67346939  4.08163265  4.48979592\n",
                        "  4.89795918  5.30612245  5.71428571  6.12244898  6.53061224  6.93877551\n",
                        "  7.34693878  7.75510204  8.16326531  8.57142857  8.97959184  9.3877551\n",
                        "  9.79591837 10.20408163 10.6122449  11.02040816 11.42857143 11.83673469\n",
                        " 12.24489796 12.65306122 13.06122449 13.46938776 13.87755102 14.28571429\n",
                        " 14.69387755 15.10204082 15.51020408 15.91836735 16.32653061 16.73469388\n",
                        " 17.14285714 17.55102041 17.95918367 18.36734694 18.7755102  19.18367347\n",
                        " 19.59183673 20.        ]\n",
                        "[ 0.  2.  4.  6.  8. 10. 12. 14. 16. 18. 20. 22. 24. 26. 28. 30. 32. 34.\n",
                        " 36. 38. 40. 42. 44. 46. 48. 50. 52. 54. 56. 58. 60. 62. 64. 66. 68. 70.\n",
                        " 72. 74. 76. 78. 80. 82. 84. 86. 88. 90. 92. 94. 96. 98.]\n",
                        "l.size      =>  50\n",
                        "l.ndim      =>  1\n",
                        "l.dtype     =>  float64\n",
                        "l.shape     =>  (50,)\n",
                        "l.itemsize  =>  8\n",
                        "l           => [ 0.   2.5  5.   7.5 10. ]\n",
                        "l           => [ 0.  2.  4.  6.  8. 10. 12. 14. 16. 18.]\n",
                        "l           => [ 0.  4.  8. 12. 16.]\n",
                        "l               => (array([ 0.,  5., 10., 15., 20.]), 5.0)\n",
                        "array : l[0]    => [ 0.  5. 10. 15. 20.]\n",
                        "retstep : l[1]  => 5.0\n"
                    ]
                }
            ],
            "metadata": {}
        },
        {
            "cell_type": "markdown",
            "source": [
                "## Operations between Arrays and Scalars"
            ],
            "metadata": {}
        },
        {
            "cell_type": "code",
            "execution_count": 17,
            "source": [
                "arr = np.arange(5)\r\n",
                "print(arr)\r\n",
                "\r\n",
                "arr **= 2\r\n",
                "print(arr)\r\n",
                "\r\n",
                "arr += 10\r\n",
                "print(arr)\r\n",
                "\r\n",
                "arr = arr - 15\r\n",
                "print(arr)\r\n",
                "\r\n",
                "arr = abs(arr)\r\n",
                "print(arr)\r\n",
                "\r\n",
                "print(arr.dtype)\r\n",
                "arr = arr/2\r\n",
                "print(arr)\r\n",
                "print(arr.dtype)\r\n",
                "\r\n",
                "arr = 1/arr\r\n",
                "print(arr)"
            ],
            "outputs": [
                {
                    "output_type": "stream",
                    "name": "stdout",
                    "text": [
                        "[0 1 2 3 4]\n",
                        "[ 0  1  4  9 16]\n",
                        "[10 11 14 19 26]\n",
                        "[-5 -4 -1  4 11]\n",
                        "[ 5  4  1  4 11]\n",
                        "int32\n",
                        "[2.5 2.  0.5 2.  5.5]\n",
                        "float64\n",
                        "[0.4        0.5        2.         0.5        0.18181818]\n"
                    ]
                }
            ],
            "metadata": {}
        },
        {
            "cell_type": "markdown",
            "source": [
                "## numpy random"
            ],
            "metadata": {}
        },
        {
            "cell_type": "code",
            "execution_count": 18,
            "source": [
                "arr = np.random.randn(3, 4)\r\n",
                "print(arr)"
            ],
            "outputs": [
                {
                    "output_type": "stream",
                    "name": "stdout",
                    "text": [
                        "[[-1.03287019  0.28089781 -1.40855236  0.33292079]\n",
                        " [ 2.04268741  0.6556036  -0.31914827  0.14896287]\n",
                        " [-1.20177156 -0.25677142 -0.36661843  0.10974442]]\n"
                    ]
                }
            ],
            "metadata": {}
        },
        {
            "cell_type": "markdown",
            "source": [
                "## Boolean Indexing"
            ],
            "metadata": {}
        },
        {
            "cell_type": "code",
            "execution_count": 19,
            "source": [
                "arr = np.random.randn(3, 4)\r\n",
                "print(arr)\r\n",
                "print(arr > 0)\r\n",
                "arr[arr<0] += 10\r\n",
                "print(arr)"
            ],
            "outputs": [
                {
                    "output_type": "stream",
                    "name": "stdout",
                    "text": [
                        "[[ 1.36489669  1.36342314 -0.67119175 -0.34652222]\n",
                        " [-0.23553349  1.1495907   1.33578787 -0.50508414]\n",
                        " [-0.57359224  0.44291121 -0.79216799  0.23669787]]\n",
                        "[[ True  True False False]\n",
                        " [False  True  True False]\n",
                        " [False  True False  True]]\n",
                        "[[1.36489669 1.36342314 9.32880825 9.65347778]\n",
                        " [9.76446651 1.1495907  1.33578787 9.49491586]\n",
                        " [9.42640776 0.44291121 9.20783201 0.23669787]]\n"
                    ]
                }
            ],
            "metadata": {}
        },
        {
            "cell_type": "markdown",
            "source": [
                "## Fancy indexing"
            ],
            "metadata": {}
        },
        {
            "cell_type": "code",
            "execution_count": 20,
            "source": [
                "arr = np.arange(1, 29).reshape(7, 4)\r\n",
                "\r\n",
                "print(arr)\r\n",
                "print(arr[1,2]) # row 1 - column 2 value\r\n",
                "print(\"------------------------------------------------------------------------\")\r\n",
                "\r\n",
                "print(arr[[1,2,3]]) # prints rows 1, 2, and 3\r\n",
                "print(\"------------------------------------------------------------------------\")\r\n",
                "\r\n",
                "# To select out a subset of the rows in a particular order, one can simply pass a list or ndarray of integers specifying the desired order.\r\n",
                "print(arr[[4,3,0,6]])\r\n",
                "print(\"------------------------------------------------------------------------\")\r\n",
                "\r\n",
                "arr[[4,3,0,6]] += 100 # This will also modify the original array\r\n",
                "print(arr)"
            ],
            "outputs": [
                {
                    "output_type": "stream",
                    "name": "stdout",
                    "text": [
                        "[[ 1  2  3  4]\n",
                        " [ 5  6  7  8]\n",
                        " [ 9 10 11 12]\n",
                        " [13 14 15 16]\n",
                        " [17 18 19 20]\n",
                        " [21 22 23 24]\n",
                        " [25 26 27 28]]\n",
                        "7\n",
                        "------------------------------------------------------------------------\n",
                        "[[ 5  6  7  8]\n",
                        " [ 9 10 11 12]\n",
                        " [13 14 15 16]]\n",
                        "------------------------------------------------------------------------\n",
                        "[[17 18 19 20]\n",
                        " [13 14 15 16]\n",
                        " [ 1  2  3  4]\n",
                        " [25 26 27 28]]\n",
                        "------------------------------------------------------------------------\n",
                        "[[101 102 103 104]\n",
                        " [  5   6   7   8]\n",
                        " [  9  10  11  12]\n",
                        " [113 114 115 116]\n",
                        " [117 118 119 120]\n",
                        " [ 21  22  23  24]\n",
                        " [125 126 127 128]]\n"
                    ]
                }
            ],
            "metadata": {}
        },
        {
            "cell_type": "code",
            "execution_count": 21,
            "source": [
                "# Passing multiple index arrays does something slightly different; it selects a 1D array of elements corresponding to each tuple of indices\r\n",
                "print(arr[[-3, -5, -1]])\r\n",
                "print(\"------------------------------------------------------------------------\")\r\n",
                "\r\n",
                "# Passing multiple index arrays does something slightly different; it selects a 1D array of elements corresponding to each tuple of indices\r\n",
                "print(arr[[1, 5, 6, 2], [0, 3, 1, 2]])\r\n",
                "# The elements (1, 0), (5, 3), (6, 1), (2, 2) will be selected"
            ],
            "outputs": [
                {
                    "output_type": "stream",
                    "name": "stdout",
                    "text": [
                        "[[117 118 119 120]\n",
                        " [  9  10  11  12]\n",
                        " [125 126 127 128]]\n",
                        "------------------------------------------------------------------------\n",
                        "[  5  24 126  11]\n"
                    ]
                }
            ],
            "metadata": {}
        },
        {
            "cell_type": "markdown",
            "source": [
                "## Some useful functions for numpy arrays\r\n",
                "    sum\r\n",
                "    max\r\n",
                "    min\r\n",
                "    all\r\n",
                "    any"
            ],
            "metadata": {}
        },
        {
            "cell_type": "code",
            "execution_count": 22,
            "source": [
                "arr = np.arange(500)\r\n",
                "print(f'sum(arr)    =>  {sum(arr)}')\r\n",
                "print(f'max(arr)    =>  {max(arr)}')\r\n",
                "print(f'min(arr)    =>  {min(arr)}')\r\n",
                "print(f'all(arr)    =>  {all(arr)}')\r\n",
                "print(f'any(arr)    =>  {any(arr)}')"
            ],
            "outputs": [
                {
                    "output_type": "stream",
                    "name": "stdout",
                    "text": [
                        "sum(arr)    =>  124750\n",
                        "max(arr)    =>  499\n",
                        "min(arr)    =>  0\n",
                        "all(arr)    =>  False\n",
                        "any(arr)    =>  True\n"
                    ]
                }
            ],
            "metadata": {}
        },
        {
            "cell_type": "code",
            "execution_count": 23,
            "source": [
                "arr = np.arange(500)\r\n",
                "print(f'np.sum(arr)    =>  {np.sum(arr)}')\r\n",
                "print(f'np.max(arr)    =>  {np.max(arr)}')\r\n",
                "print(f'np.min(arr)    =>  {np.min(arr)}')\r\n",
                "print(f'np.all(arr)    =>  {np.all(arr)}')\r\n",
                "print(f'np.any(arr)    =>  {np.any(arr)}')"
            ],
            "outputs": [
                {
                    "output_type": "stream",
                    "name": "stdout",
                    "text": [
                        "np.sum(arr)    =>  124750\n",
                        "np.max(arr)    =>  499\n",
                        "np.min(arr)    =>  0\n",
                        "np.all(arr)    =>  False\n",
                        "np.any(arr)    =>  True\n"
                    ]
                }
            ],
            "metadata": {}
        },
        {
            "cell_type": "code",
            "execution_count": 24,
            "source": [
                "arr = np.arange(500000)\r\n",
                "print(f'sum(arr)        =>  {sum(arr)}') # gives wrong answer # RuntimeWarning: overflow encountered in long_scalars\r\n",
                "print(f'np.sum(arr)     =>  {np.sum(arr)}') # gives wrong answer\r\n",
                "print(f'correct sum     =>  {499999 * 250000}')\r\n",
                "\r\n",
                "arr = np.arange(500000, dtype='i8')\r\n",
                "print(f'np.sum(arr)     =>  {np.sum(arr)}') # gives correct answer\r\n",
                "print(f'sum(arr)        =>  {sum(arr)}') # gives correct answer\r\n",
                "\r\n",
                "li = list(range(500000))\r\n",
                "print(f'sum(li)         =>  {sum(li)}') # gives correct answer"
            ],
            "outputs": [
                {
                    "output_type": "stream",
                    "name": "stdout",
                    "text": [
                        "sum(arr)        =>  445698416\n",
                        "np.sum(arr)     =>  445698416\n",
                        "correct sum     =>  124999750000\n",
                        "np.sum(arr)     =>  124999750000\n",
                        "sum(arr)        =>  124999750000\n",
                        "sum(li)         =>  124999750000\n"
                    ]
                },
                {
                    "output_type": "stream",
                    "name": "stderr",
                    "text": [
                        "<ipython-input-24-8bf200c2e37e>:2: RuntimeWarning: overflow encountered in long_scalars\n",
                        "  print(f'sum(arr)        =>  {sum(arr)}') # gives wrong answer # RuntimeWarning: overflow encountered in long_scalars\n"
                    ]
                }
            ],
            "metadata": {}
        },
        {
            "cell_type": "markdown",
            "source": [
                "## Universal functions (ufunc)"
            ],
            "metadata": {}
        },
        {
            "cell_type": "code",
            "execution_count": 25,
            "source": [
                "arr = np.arange(5)\r\n",
                "arr = np.square(arr)\r\n",
                "print(arr)\r\n",
                "\r\n",
                "# arr.sqrt() # AttributeError: 'numpy.ndarray' object has no attribute 'sqrt'\r\n",
                "arr = np.sqrt(arr)\r\n",
                "print(arr)\r\n",
                "\r\n",
                "arr = np.exp(arr)\r\n",
                "print(arr)\r\n",
                "\r\n",
                "print(np.log2(arr))\r\n",
                "print(np.log10(arr))\r\n",
                "\r\n",
                "arr = np.log(arr)\r\n",
                "print(arr)\r\n",
                "print(\"------------------------------------------------------------------------\")\r\n",
                "\r\n",
                "arr = np.random.randn(2, 3)\r\n",
                "print(arr)\r\n",
                "print(np.ceil(arr))\r\n",
                "print(np.floor(arr))"
            ],
            "outputs": [
                {
                    "output_type": "stream",
                    "name": "stdout",
                    "text": [
                        "[ 0  1  4  9 16]\n",
                        "[0. 1. 2. 3. 4.]\n",
                        "[ 1.          2.71828183  7.3890561  20.08553692 54.59815003]\n",
                        "[0.         1.44269504 2.88539008 4.32808512 5.77078016]\n",
                        "[0.         0.43429448 0.86858896 1.30288345 1.73717793]\n",
                        "[0. 1. 2. 3. 4.]\n",
                        "------------------------------------------------------------------------\n",
                        "[[-0.88430968  0.67126263  0.69388592]\n",
                        " [-1.10640988  0.30988221  0.4881372 ]]\n",
                        "[[-0.  1.  1.]\n",
                        " [-1.  1.  1.]]\n",
                        "[[-1.  0.  0.]\n",
                        " [-2.  0.  0.]]\n"
                    ]
                }
            ],
            "metadata": {}
        },
        {
            "cell_type": "code",
            "execution_count": 26,
            "source": [
                "arr1 = np.linspace(30, 54, 9).reshape((3, 3))\r\n",
                "arr2 = np.linspace(9, 81, 9).reshape((3, 3))\r\n",
                "print(arr1)\r\n",
                "print(arr2)\r\n",
                "print(\"------------------------------------------------------------------------\")\r\n",
                "\r\n",
                "print(np.add(arr1, arr2))\r\n",
                "print(arr1 - arr2)\r\n",
                "print(np.multiply(arr1, arr2))\r\n",
                "print(arr1 / arr2)\r\n",
                "print(arr1 // arr2)\r\n",
                "print(\"------------------------------------------------------------------------\")\r\n",
                "\r\n",
                "print(np.floor_divide(arr1, arr2) == arr1 // arr2)\r\n",
                "print(\"------------------------------------------------------------------------\")"
            ],
            "outputs": [
                {
                    "output_type": "stream",
                    "name": "stdout",
                    "text": [
                        "[[30. 33. 36.]\n",
                        " [39. 42. 45.]\n",
                        " [48. 51. 54.]]\n",
                        "[[ 9. 18. 27.]\n",
                        " [36. 45. 54.]\n",
                        " [63. 72. 81.]]\n",
                        "------------------------------------------------------------------------\n",
                        "[[ 39.  51.  63.]\n",
                        " [ 75.  87.  99.]\n",
                        " [111. 123. 135.]]\n",
                        "[[ 21.  15.   9.]\n",
                        " [  3.  -3.  -9.]\n",
                        " [-15. -21. -27.]]\n",
                        "[[ 270.  594.  972.]\n",
                        " [1404. 1890. 2430.]\n",
                        " [3024. 3672. 4374.]]\n",
                        "[[3.33333333 1.83333333 1.33333333]\n",
                        " [1.08333333 0.93333333 0.83333333]\n",
                        " [0.76190476 0.70833333 0.66666667]]\n",
                        "[[3. 1. 1.]\n",
                        " [1. 0. 0.]\n",
                        " [0. 0. 0.]]\n",
                        "------------------------------------------------------------------------\n",
                        "[[ True  True  True]\n",
                        " [ True  True  True]\n",
                        " [ True  True  True]]\n",
                        "------------------------------------------------------------------------\n"
                    ]
                }
            ],
            "metadata": {}
        },
        {
            "cell_type": "code",
            "execution_count": 27,
            "source": [
                "arr1 = np.linspace(30, 54, 9).reshape((3, 3))\r\n",
                "arr2 = np.linspace(9, 81, 9).reshape((3, 3))\r\n",
                "print(arr1)\r\n",
                "print(arr2)\r\n",
                "print(\"------------------------------------------------------------------------\")\r\n",
                "\r\n",
                "print(arr1 < arr2)\r\n",
                "print(\"------------------------------------------------------------------------\")\r\n",
                "\r\n",
                "# Element wise maximum, fmax ignores NaN\r\n",
                "print(np.maximum(arr1, arr2))\r\n",
                "print(np.fmax(arr1, arr2))\r\n",
                "\r\n",
                "# Element wise minimum, fmin ignores NaN\r\n",
                "print(np.minimum(arr1, arr2))\r\n",
                "print(np.fmin(arr1, arr2))\r\n",
                "print(\"------------------------------------------------------------------------\")"
            ],
            "outputs": [
                {
                    "output_type": "stream",
                    "name": "stdout",
                    "text": [
                        "[[30. 33. 36.]\n",
                        " [39. 42. 45.]\n",
                        " [48. 51. 54.]]\n",
                        "[[ 9. 18. 27.]\n",
                        " [36. 45. 54.]\n",
                        " [63. 72. 81.]]\n",
                        "------------------------------------------------------------------------\n",
                        "[[False False False]\n",
                        " [False  True  True]\n",
                        " [ True  True  True]]\n",
                        "------------------------------------------------------------------------\n",
                        "[[30. 33. 36.]\n",
                        " [39. 45. 54.]\n",
                        " [63. 72. 81.]]\n",
                        "[[30. 33. 36.]\n",
                        " [39. 45. 54.]\n",
                        " [63. 72. 81.]]\n",
                        "[[ 9. 18. 27.]\n",
                        " [36. 42. 45.]\n",
                        " [48. 51. 54.]]\n",
                        "[[ 9. 18. 27.]\n",
                        " [36. 42. 45.]\n",
                        " [48. 51. 54.]]\n",
                        "------------------------------------------------------------------------\n"
                    ]
                }
            ],
            "metadata": {}
        },
        {
            "cell_type": "code",
            "execution_count": 28,
            "source": [
                "print(np.mod(arr1, arr2))\r\n",
                "print(arr1%arr2)\r\n",
                "print(\"------------------------------------------------------------------------\")\r\n",
                "\r\n",
                "print(np.power(arr1, arr2))\r\n",
                "print(arr1**arr2)\r\n"
            ],
            "outputs": [
                {
                    "output_type": "stream",
                    "name": "stdout",
                    "text": [
                        "[[ 3. 15.  9.]\n",
                        " [ 3. 42. 45.]\n",
                        " [48. 51. 54.]]\n",
                        "[[ 3. 15.  9.]\n",
                        " [ 3. 42. 45.]\n",
                        " [48. 51. 54.]]\n",
                        "------------------------------------------------------------------------\n",
                        "[[1.96830000e+013 2.15402588e+027 1.04753254e+042]\n",
                        " [1.89812956e+057 1.11229009e+073 1.87704958e+089]\n",
                        " [8.28319632e+105 8.81155749e+122 2.10811620e+140]]\n",
                        "[[1.96830000e+013 2.15402588e+027 1.04753254e+042]\n",
                        " [1.89812956e+057 1.11229009e+073 1.87704958e+089]\n",
                        " [8.28319632e+105 8.81155749e+122 2.10811620e+140]]\n"
                    ]
                }
            ],
            "metadata": {}
        },
        {
            "cell_type": "markdown",
            "source": [
                "## Mathematical and statistical methods"
            ],
            "metadata": {}
        },
        {
            "cell_type": "code",
            "execution_count": 29,
            "source": [
                "arr = np.arange(1, 21).reshape(5, 4)\r\n",
                "print(arr)\r\n",
                "print(arr.mean(), np.mean(arr))\r\n",
                "print(arr.mean(axis=0), np.mean(arr, axis=0))\r\n",
                "print(arr.mean(axis=1), np.mean(arr, axis=1))\r\n",
                "print(arr.mean(0), np.mean(arr, 1))\r\n",
                "print(\"------------------------------------------------------------------------\")\r\n",
                "\r\n",
                "print(arr.sum(), np.sum(arr))\r\n",
                "print(arr.sum(axis=0), np.sum(arr, axis=0))\r\n",
                "print(arr.sum(axis=1), np.sum(arr, axis=1))\r\n",
                "print(arr.sum(0), np.sum(arr, 1))"
            ],
            "outputs": [
                {
                    "output_type": "stream",
                    "name": "stdout",
                    "text": [
                        "[[ 1  2  3  4]\n",
                        " [ 5  6  7  8]\n",
                        " [ 9 10 11 12]\n",
                        " [13 14 15 16]\n",
                        " [17 18 19 20]]\n",
                        "10.5 10.5\n",
                        "[ 9. 10. 11. 12.] [ 9. 10. 11. 12.]\n",
                        "[ 2.5  6.5 10.5 14.5 18.5] [ 2.5  6.5 10.5 14.5 18.5]\n",
                        "[ 9. 10. 11. 12.] [ 2.5  6.5 10.5 14.5 18.5]\n",
                        "------------------------------------------------------------------------\n",
                        "210 210\n",
                        "[45 50 55 60] [45 50 55 60]\n",
                        "[10 26 42 58 74] [10 26 42 58 74]\n",
                        "[45 50 55 60] [10 26 42 58 74]\n"
                    ]
                }
            ],
            "metadata": {}
        },
        {
            "cell_type": "code",
            "execution_count": 30,
            "source": [
                "arr = np.arange(1, 9).reshape(4, 2)\r\n",
                "\r\n",
                "print(arr.cumsum())\r\n",
                "print(arr.cumsum(axis=0))\r\n",
                "print(np.cumsum(arr, 1))\r\n",
                "print(\"------------------------------------------------------------------------\")\r\n",
                "\r\n",
                "print(arr.cumprod())\r\n",
                "print(arr.cumprod(axis=0))\r\n",
                "print(np.cumprod(arr, 1))"
            ],
            "outputs": [
                {
                    "output_type": "stream",
                    "name": "stdout",
                    "text": [
                        "[ 1  3  6 10 15 21 28 36]\n",
                        "[[ 1  2]\n",
                        " [ 4  6]\n",
                        " [ 9 12]\n",
                        " [16 20]]\n",
                        "[[ 1  3]\n",
                        " [ 3  7]\n",
                        " [ 5 11]\n",
                        " [ 7 15]]\n",
                        "------------------------------------------------------------------------\n",
                        "[    1     2     6    24   120   720  5040 40320]\n",
                        "[[  1   2]\n",
                        " [  3   8]\n",
                        " [ 15  48]\n",
                        " [105 384]]\n",
                        "[[ 1  2]\n",
                        " [ 3 12]\n",
                        " [ 5 30]\n",
                        " [ 7 56]]\n"
                    ]
                }
            ],
            "metadata": {}
        },
        {
            "cell_type": "code",
            "execution_count": 31,
            "source": [
                "arr = np.arange(1, 21).reshape(5, 4)\r\n",
                "print(np.min(arr), arr.min())\r\n",
                "print(np.max(arr), arr.max())\r\n",
                "print(np.std(arr), arr.std())\r\n",
                "print(np.var(arr), arr.var())\r\n",
                "print(np.argmin(arr), arr.argmin())\r\n",
                "print(np.argmax(arr), arr.argmax())"
            ],
            "outputs": [
                {
                    "output_type": "stream",
                    "name": "stdout",
                    "text": [
                        "1 1\n",
                        "20 20\n",
                        "5.766281297335398 5.766281297335398\n",
                        "33.25 33.25\n",
                        "0 0\n",
                        "19 19\n"
                    ]
                }
            ],
            "metadata": {}
        },
        {
            "cell_type": "markdown",
            "source": [
                "## Sorting"
            ],
            "metadata": {}
        },
        {
            "cell_type": "code",
            "execution_count": 32,
            "source": [
                "arr = np.random.randn(2, 3)\r\n",
                "print(arr)\r\n",
                "arr2 = np.sort(arr) # Out-place Sorting\r\n",
                "print(arr2)\r\n",
                "arr.sort() # In-place Sorting\r\n",
                "print(arr)\r\n",
                "print(\"------------------------------------------------------------------------\")\r\n",
                "\r\n",
                "arr.sort(1)\r\n",
                "print(arr)\r\n",
                "arr.sort(0)\r\n",
                "print(arr)"
            ],
            "outputs": [
                {
                    "output_type": "stream",
                    "name": "stdout",
                    "text": [
                        "[[ 0.8458679  -0.68870619  0.63692058]\n",
                        " [ 2.27672022 -0.04740707 -0.79203225]]\n",
                        "[[-0.68870619  0.63692058  0.8458679 ]\n",
                        " [-0.79203225 -0.04740707  2.27672022]]\n",
                        "[[-0.68870619  0.63692058  0.8458679 ]\n",
                        " [-0.79203225 -0.04740707  2.27672022]]\n",
                        "------------------------------------------------------------------------\n",
                        "[[-0.68870619  0.63692058  0.8458679 ]\n",
                        " [-0.79203225 -0.04740707  2.27672022]]\n",
                        "[[-0.79203225 -0.04740707  0.8458679 ]\n",
                        " [-0.68870619  0.63692058  2.27672022]]\n"
                    ]
                }
            ],
            "metadata": {}
        },
        {
            "cell_type": "markdown",
            "source": [
                "## File Input and Output with arrays"
            ],
            "metadata": {}
        },
        {
            "cell_type": "code",
            "execution_count": 33,
            "source": [
                "arr = np.array([np.random.randint(1, 5) for _ in range(12)]).reshape(3, 4)\r\n",
                "print(arr)\r\n",
                "np.save('myarr', arr)"
            ],
            "outputs": [
                {
                    "output_type": "stream",
                    "name": "stdout",
                    "text": [
                        "[[4 4 3 2]\n",
                        " [1 2 1 1]\n",
                        " [1 2 4 2]]\n"
                    ]
                }
            ],
            "metadata": {}
        },
        {
            "cell_type": "code",
            "execution_count": 34,
            "source": [
                "arr = np.load('myarr.npy')\r\n",
                "print(arr)"
            ],
            "outputs": [
                {
                    "output_type": "stream",
                    "name": "stdout",
                    "text": [
                        "[[4 4 3 2]\n",
                        " [1 2 1 1]\n",
                        " [1 2 4 2]]\n"
                    ]
                }
            ],
            "metadata": {}
        },
        {
            "cell_type": "markdown",
            "source": [
                "## Linear Algebra"
            ],
            "metadata": {}
        },
        {
            "cell_type": "code",
            "execution_count": 35,
            "source": [
                "arr = np.arange(1, 10).reshape(3, 3)\r\n",
                "arr2 = np.arange(1, 4).reshape(3, 1)\r\n",
                "print(arr)\r\n",
                "print(arr2)\r\n",
                "print(\"------------------------------------------------------------------------\")\r\n",
                "\r\n",
                "print(arr.dot(arr2))\r\n",
                "print(np.dot(arr, arr2))\r\n",
                "print(np.dot(arr, arr))\r\n",
                "# print(np.dot(arr2, arr2)) # ValueError: shapes (3,1) and (3,1) not aligned: 1 (dim 1) != 3 (dim 0)"
            ],
            "outputs": [
                {
                    "output_type": "stream",
                    "name": "stdout",
                    "text": [
                        "[[1 2 3]\n",
                        " [4 5 6]\n",
                        " [7 8 9]]\n",
                        "[[1]\n",
                        " [2]\n",
                        " [3]]\n",
                        "------------------------------------------------------------------------\n",
                        "[[14]\n",
                        " [32]\n",
                        " [50]]\n",
                        "[[14]\n",
                        " [32]\n",
                        " [50]]\n",
                        "[[ 30  36  42]\n",
                        " [ 66  81  96]\n",
                        " [102 126 150]]\n"
                    ]
                }
            ],
            "metadata": {}
        },
        {
            "cell_type": "code",
            "execution_count": 36,
            "source": [
                "arr = np.arange(1, 5).reshape(2, 2)\r\n",
                "arr2 = np.arange(1, 4).reshape(3, 1)\r\n",
                "print(arr)\r\n",
                "\r\n",
                "arr3 = np.linalg.inv(arr)\r\n",
                "print(arr3)\r\n",
                "# arr3 = np.linalg.inv(arr2) # LinAlgError: Last 2 dimensions of the array must be square\r\n",
                "\r\n",
                "print(np.trace(arr), arr.trace())\r\n",
                "print(np.linalg.det(arr))"
            ],
            "outputs": [
                {
                    "output_type": "stream",
                    "name": "stdout",
                    "text": [
                        "[[1 2]\n",
                        " [3 4]]\n",
                        "[[-2.   1. ]\n",
                        " [ 1.5 -0.5]]\n",
                        "5 5\n",
                        "-2.0000000000000004\n"
                    ]
                }
            ],
            "metadata": {}
        }
    ],
    "metadata": {
        "orig_nbformat": 4,
        "language_info": {
            "name": "python",
            "version": "3.8.3",
            "mimetype": "text/x-python",
            "codemirror_mode": {
                "name": "ipython",
                "version": 3
            },
            "pygments_lexer": "ipython3",
            "nbconvert_exporter": "python",
            "file_extension": ".py"
        },
        "kernelspec": {
            "name": "python3",
            "display_name": "Python 3.8.3 64-bit ('shail': virtualenv)"
        },
        "interpreter": {
            "hash": "c9898c5574bdc177b6ddb2b18ff7f3632460f6fb5d84266862114340fac52bdd"
        }
    },
    "nbformat": 4,
    "nbformat_minor": 2
}