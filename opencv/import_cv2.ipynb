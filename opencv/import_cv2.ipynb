{
 "cells": [
  {
   "cell_type": "code",
   "execution_count": 1,
   "source": [
    "import cv2 as cv\r\n",
    "import numpy as np"
   ],
   "outputs": [],
   "metadata": {}
  },
  {
   "cell_type": "code",
   "execution_count": 2,
   "source": [
    "print(np.__version__)\r\n",
    "print(cv.__version__)"
   ],
   "outputs": [
    {
     "output_type": "stream",
     "name": "stdout",
     "text": [
      "1.18.5\n",
      "4.0.1\n"
     ]
    }
   ],
   "metadata": {}
  },
  {
   "cell_type": "code",
   "execution_count": 3,
   "source": [
    "img = cv.imread('C:/Users/shail/Documents/Python Projects/learn_Python/opencv/imgs/img1.jpg')\r\n",
    "cv.imshow('name_of_window', img)\r\n",
    "cv.waitKey(0)"
   ],
   "outputs": [
    {
     "output_type": "execute_result",
     "data": {
      "text/plain": [
       "-1"
      ]
     },
     "metadata": {},
     "execution_count": 3
    }
   ],
   "metadata": {}
  },
  {
   "cell_type": "code",
   "execution_count": 4,
   "source": [
    "img = cv.imread('C:/Users/shail/Documents/Python Projects/learn_Python/opencv/imgs/img2.jpg')\r\n",
    "cv.imshow('cat', img)\r\n",
    "cv.waitKey(0)"
   ],
   "outputs": [
    {
     "output_type": "execute_result",
     "data": {
      "text/plain": [
       "-1"
      ]
     },
     "metadata": {},
     "execution_count": 4
    }
   ],
   "metadata": {}
  }
 ],
 "metadata": {
  "orig_nbformat": 4,
  "language_info": {
   "name": "python",
   "version": "3.8.3",
   "mimetype": "text/x-python",
   "codemirror_mode": {
    "name": "ipython",
    "version": 3
   },
   "pygments_lexer": "ipython3",
   "nbconvert_exporter": "python",
   "file_extension": ".py"
  },
  "kernelspec": {
   "name": "python3",
   "display_name": "Python 3.8.3 64-bit ('shail': virtualenv)"
  },
  "interpreter": {
   "hash": "c9898c5574bdc177b6ddb2b18ff7f3632460f6fb5d84266862114340fac52bdd"
  }
 },
 "nbformat": 4,
 "nbformat_minor": 2
}